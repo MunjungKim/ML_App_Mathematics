{
 "cells": [
  {
   "cell_type": "code",
   "execution_count": 1,
   "id": "identified-boxing",
   "metadata": {},
   "outputs": [],
   "source": [
    "import Ridge\n",
    "import pandas as pd\n",
    "import numpy as np\n",
    "from sklearn import linear_model\n",
    "import matplotlib.pyplot as plt\n"
   ]
  },
  {
   "cell_type": "markdown",
   "id": "laden-enzyme",
   "metadata": {},
   "source": [
    "# Read Data"
   ]
  },
  {
   "cell_type": "code",
   "execution_count": 24,
   "id": "initial-drinking",
   "metadata": {},
   "outputs": [],
   "source": [
    "Boston_House = 'bostonhouse.csv'\n",
    "data = pd.read_csv(Boston_House, encoding='CP949')"
   ]
  },
  {
   "cell_type": "code",
   "execution_count": 25,
   "id": "national-think",
   "metadata": {},
   "outputs": [
    {
     "data": {
      "text/html": [
       "<div>\n",
       "<style scoped>\n",
       "    .dataframe tbody tr th:only-of-type {\n",
       "        vertical-align: middle;\n",
       "    }\n",
       "\n",
       "    .dataframe tbody tr th {\n",
       "        vertical-align: top;\n",
       "    }\n",
       "\n",
       "    .dataframe thead th {\n",
       "        text-align: right;\n",
       "    }\n",
       "</style>\n",
       "<table border=\"1\" class=\"dataframe\">\n",
       "  <thead>\n",
       "    <tr style=\"text-align: right;\">\n",
       "      <th></th>\n",
       "      <th>癤풠RIM</th>\n",
       "      <th>ZN</th>\n",
       "      <th>INDUS</th>\n",
       "      <th>CHAS</th>\n",
       "      <th>NOX</th>\n",
       "      <th>RM</th>\n",
       "      <th>AGE</th>\n",
       "      <th>DIS</th>\n",
       "      <th>RAD</th>\n",
       "      <th>TAX</th>\n",
       "      <th>PTRATIO</th>\n",
       "      <th>B</th>\n",
       "      <th>LSTAT</th>\n",
       "      <th>MEDV</th>\n",
       "    </tr>\n",
       "  </thead>\n",
       "  <tbody>\n",
       "    <tr>\n",
       "      <th>0</th>\n",
       "      <td>0.00632</td>\n",
       "      <td>18.0</td>\n",
       "      <td>2.31</td>\n",
       "      <td>0</td>\n",
       "      <td>0.538</td>\n",
       "      <td>6.575</td>\n",
       "      <td>65.2</td>\n",
       "      <td>4.0900</td>\n",
       "      <td>1</td>\n",
       "      <td>296.0</td>\n",
       "      <td>15.3</td>\n",
       "      <td>396.90</td>\n",
       "      <td>4.98</td>\n",
       "      <td>24.0</td>\n",
       "    </tr>\n",
       "    <tr>\n",
       "      <th>1</th>\n",
       "      <td>0.02731</td>\n",
       "      <td>0.0</td>\n",
       "      <td>7.07</td>\n",
       "      <td>0</td>\n",
       "      <td>0.469</td>\n",
       "      <td>6.421</td>\n",
       "      <td>78.9</td>\n",
       "      <td>4.9671</td>\n",
       "      <td>2</td>\n",
       "      <td>242.0</td>\n",
       "      <td>17.8</td>\n",
       "      <td>396.90</td>\n",
       "      <td>9.14</td>\n",
       "      <td>21.6</td>\n",
       "    </tr>\n",
       "    <tr>\n",
       "      <th>2</th>\n",
       "      <td>0.02729</td>\n",
       "      <td>0.0</td>\n",
       "      <td>7.07</td>\n",
       "      <td>0</td>\n",
       "      <td>0.469</td>\n",
       "      <td>7.185</td>\n",
       "      <td>61.1</td>\n",
       "      <td>4.9671</td>\n",
       "      <td>2</td>\n",
       "      <td>242.0</td>\n",
       "      <td>17.8</td>\n",
       "      <td>392.83</td>\n",
       "      <td>4.03</td>\n",
       "      <td>34.7</td>\n",
       "    </tr>\n",
       "    <tr>\n",
       "      <th>3</th>\n",
       "      <td>0.03237</td>\n",
       "      <td>0.0</td>\n",
       "      <td>2.18</td>\n",
       "      <td>0</td>\n",
       "      <td>0.458</td>\n",
       "      <td>6.998</td>\n",
       "      <td>45.8</td>\n",
       "      <td>6.0622</td>\n",
       "      <td>3</td>\n",
       "      <td>222.0</td>\n",
       "      <td>18.7</td>\n",
       "      <td>394.63</td>\n",
       "      <td>2.94</td>\n",
       "      <td>33.4</td>\n",
       "    </tr>\n",
       "    <tr>\n",
       "      <th>4</th>\n",
       "      <td>0.06905</td>\n",
       "      <td>0.0</td>\n",
       "      <td>2.18</td>\n",
       "      <td>0</td>\n",
       "      <td>0.458</td>\n",
       "      <td>7.147</td>\n",
       "      <td>54.2</td>\n",
       "      <td>6.0622</td>\n",
       "      <td>3</td>\n",
       "      <td>222.0</td>\n",
       "      <td>18.7</td>\n",
       "      <td>396.90</td>\n",
       "      <td>5.33</td>\n",
       "      <td>36.2</td>\n",
       "    </tr>\n",
       "    <tr>\n",
       "      <th>...</th>\n",
       "      <td>...</td>\n",
       "      <td>...</td>\n",
       "      <td>...</td>\n",
       "      <td>...</td>\n",
       "      <td>...</td>\n",
       "      <td>...</td>\n",
       "      <td>...</td>\n",
       "      <td>...</td>\n",
       "      <td>...</td>\n",
       "      <td>...</td>\n",
       "      <td>...</td>\n",
       "      <td>...</td>\n",
       "      <td>...</td>\n",
       "      <td>...</td>\n",
       "    </tr>\n",
       "    <tr>\n",
       "      <th>501</th>\n",
       "      <td>0.06263</td>\n",
       "      <td>0.0</td>\n",
       "      <td>11.93</td>\n",
       "      <td>0</td>\n",
       "      <td>0.573</td>\n",
       "      <td>6.593</td>\n",
       "      <td>69.1</td>\n",
       "      <td>2.4786</td>\n",
       "      <td>1</td>\n",
       "      <td>273.0</td>\n",
       "      <td>21.0</td>\n",
       "      <td>391.99</td>\n",
       "      <td>9.67</td>\n",
       "      <td>22.4</td>\n",
       "    </tr>\n",
       "    <tr>\n",
       "      <th>502</th>\n",
       "      <td>0.04527</td>\n",
       "      <td>0.0</td>\n",
       "      <td>11.93</td>\n",
       "      <td>0</td>\n",
       "      <td>0.573</td>\n",
       "      <td>6.120</td>\n",
       "      <td>76.7</td>\n",
       "      <td>2.2875</td>\n",
       "      <td>1</td>\n",
       "      <td>273.0</td>\n",
       "      <td>21.0</td>\n",
       "      <td>396.90</td>\n",
       "      <td>9.08</td>\n",
       "      <td>20.6</td>\n",
       "    </tr>\n",
       "    <tr>\n",
       "      <th>503</th>\n",
       "      <td>0.06076</td>\n",
       "      <td>0.0</td>\n",
       "      <td>11.93</td>\n",
       "      <td>0</td>\n",
       "      <td>0.573</td>\n",
       "      <td>6.976</td>\n",
       "      <td>91.0</td>\n",
       "      <td>2.1675</td>\n",
       "      <td>1</td>\n",
       "      <td>273.0</td>\n",
       "      <td>21.0</td>\n",
       "      <td>396.90</td>\n",
       "      <td>5.64</td>\n",
       "      <td>23.9</td>\n",
       "    </tr>\n",
       "    <tr>\n",
       "      <th>504</th>\n",
       "      <td>0.10959</td>\n",
       "      <td>0.0</td>\n",
       "      <td>11.93</td>\n",
       "      <td>0</td>\n",
       "      <td>0.573</td>\n",
       "      <td>6.794</td>\n",
       "      <td>89.3</td>\n",
       "      <td>2.3889</td>\n",
       "      <td>1</td>\n",
       "      <td>273.0</td>\n",
       "      <td>21.0</td>\n",
       "      <td>393.45</td>\n",
       "      <td>6.48</td>\n",
       "      <td>22.0</td>\n",
       "    </tr>\n",
       "    <tr>\n",
       "      <th>505</th>\n",
       "      <td>0.04741</td>\n",
       "      <td>0.0</td>\n",
       "      <td>11.93</td>\n",
       "      <td>0</td>\n",
       "      <td>0.573</td>\n",
       "      <td>6.030</td>\n",
       "      <td>80.8</td>\n",
       "      <td>2.5050</td>\n",
       "      <td>1</td>\n",
       "      <td>273.0</td>\n",
       "      <td>21.0</td>\n",
       "      <td>396.90</td>\n",
       "      <td>7.88</td>\n",
       "      <td>11.9</td>\n",
       "    </tr>\n",
       "  </tbody>\n",
       "</table>\n",
       "<p>506 rows × 14 columns</p>\n",
       "</div>"
      ],
      "text/plain": [
       "       癤풠RIM    ZN  INDUS  CHAS    NOX     RM   AGE     DIS  RAD    TAX  \\\n",
       "0    0.00632  18.0   2.31     0  0.538  6.575  65.2  4.0900    1  296.0   \n",
       "1    0.02731   0.0   7.07     0  0.469  6.421  78.9  4.9671    2  242.0   \n",
       "2    0.02729   0.0   7.07     0  0.469  7.185  61.1  4.9671    2  242.0   \n",
       "3    0.03237   0.0   2.18     0  0.458  6.998  45.8  6.0622    3  222.0   \n",
       "4    0.06905   0.0   2.18     0  0.458  7.147  54.2  6.0622    3  222.0   \n",
       "..       ...   ...    ...   ...    ...    ...   ...     ...  ...    ...   \n",
       "501  0.06263   0.0  11.93     0  0.573  6.593  69.1  2.4786    1  273.0   \n",
       "502  0.04527   0.0  11.93     0  0.573  6.120  76.7  2.2875    1  273.0   \n",
       "503  0.06076   0.0  11.93     0  0.573  6.976  91.0  2.1675    1  273.0   \n",
       "504  0.10959   0.0  11.93     0  0.573  6.794  89.3  2.3889    1  273.0   \n",
       "505  0.04741   0.0  11.93     0  0.573  6.030  80.8  2.5050    1  273.0   \n",
       "\n",
       "     PTRATIO       B  LSTAT  MEDV  \n",
       "0       15.3  396.90   4.98  24.0  \n",
       "1       17.8  396.90   9.14  21.6  \n",
       "2       17.8  392.83   4.03  34.7  \n",
       "3       18.7  394.63   2.94  33.4  \n",
       "4       18.7  396.90   5.33  36.2  \n",
       "..       ...     ...    ...   ...  \n",
       "501     21.0  391.99   9.67  22.4  \n",
       "502     21.0  396.90   9.08  20.6  \n",
       "503     21.0  396.90   5.64  23.9  \n",
       "504     21.0  393.45   6.48  22.0  \n",
       "505     21.0  396.90   7.88  11.9  \n",
       "\n",
       "[506 rows x 14 columns]"
      ]
     },
     "execution_count": 25,
     "metadata": {},
     "output_type": "execute_result"
    }
   ],
   "source": [
    "data"
   ]
  },
  {
   "cell_type": "code",
   "execution_count": 26,
   "id": "indoor-million",
   "metadata": {},
   "outputs": [],
   "source": [
    "data = data.to_numpy()"
   ]
  },
  {
   "cell_type": "code",
   "execution_count": 27,
   "id": "possible-infection",
   "metadata": {
    "scrolled": true
   },
   "outputs": [
    {
     "name": "stdout",
     "output_type": "stream",
     "text": [
      "Total data shape is (506, 14)\n",
      "The number of sample is  506\n"
     ]
    }
   ],
   "source": [
    "print(\"Total data shape is\", data.shape)\n",
    "print(\"The number of sample is \",len(data[:,0]))"
   ]
  },
  {
   "cell_type": "markdown",
   "id": "signal-anxiety",
   "metadata": {},
   "source": [
    "### Data visualization"
   ]
  },
  {
   "cell_type": "code",
   "execution_count": 13,
   "id": "accepted-peace",
   "metadata": {
    "scrolled": true
   },
   "outputs": [
    {
     "data": {
      "text/plain": [
       "Text(0.5, 0, 'LSTAT')"
      ]
     },
     "execution_count": 13,
     "metadata": {},
     "output_type": "execute_result"
    },
    {
     "data": {
      "image/png": "[encoded data removed]",
      "text/plain": [
       "<Figure size 432x288 with 1 Axes>"
      ]
     },
     "metadata": {
      "needs_background": "light"
     },
     "output_type": "display_data"
    }
   ],
   "source": [
    "plt.scatter(train[:,12], price)\n",
    "plt.ylabel('price')\n",
    "plt.xlabel('LSTAT')"
   ]
  },
  {
   "cell_type": "markdown",
   "id": "ecological-literature",
   "metadata": {},
   "source": [
    "# Ridge regression"
   ]
  },
  {
   "cell_type": "code",
   "execution_count": 68,
   "id": "sweet-outside",
   "metadata": {},
   "outputs": [],
   "source": [
    "from sklearn.metrics import mean_squared_error\n",
    "from sklearn.model_selection import train_test_split\n",
    "from scipy import stats\n",
    "import statistics\n",
    "\n",
    "\n",
    "# divide test data and train data\n",
    "X_train, X_test, Y_train, Y_test = train_test_split(feature, price, test_size=0.2, random_state=1)\n",
    "\n",
    "# training\n",
    "X_norm = stats.zscore(X_train,axis=0)\n",
    "X_std = np.std(X_train,axis=0)\n",
    "X_mean = np.mean(X_train,axis=0)\n",
    "\n",
    "beta_ridge, beta_0 = Ridge.solve(X_norm, Y_train,0.1)\n"
   ]
  },
  {
   "cell_type": "code",
   "execution_count": 69,
   "id": "everyday-transcription",
   "metadata": {},
   "outputs": [
    {
     "name": "stdout",
     "output_type": "stream",
     "text": [
      "Result MSE, RMSE  23.38071383851056 4.835360776458211\n"
     ]
    }
   ],
   "source": [
    "# test\n",
    "test_norm = (X_test-X_mean)/X_std\n",
    "Y_pred = np.matmul(test_norm, beta_ridge)+beta_0\n",
    "\n",
    "mse = mean_squared_error(Y_test, Y_pred)\n",
    "print(\"Result MSE, RMSE \",mse, np.sqrt(mse))"
   ]
  },
  {
   "cell_type": "code",
   "execution_count": 76,
   "id": "protected-indonesia",
   "metadata": {},
   "outputs": [
    {
     "name": "stdout",
     "output_type": "stream",
     "text": [
      "22.52227722772277 [-1.02556464  1.34772165  0.12246444  0.5756498  -2.28222369  2.13231277\n",
      "  0.12593524 -3.17448451  2.63736604 -1.86851972 -2.14198038  0.66935237\n",
      " -3.92345004]\n",
      "[1.02556464 1.34772165 0.12246444 0.5756498  2.28222369 2.13231277\n",
      " 0.12593524 3.17448451 2.63736604 1.86851972 2.14198038 0.66935237\n",
      " 3.92345004]\n",
      "[ 2  6  3 11  0  1  9  5 10  4  8  7 12]\n"
     ]
    }
   ],
   "source": [
    "print(beta_0, beta_ridge)\n",
    "print(np.abs(beta_ridge))\n",
    "print(np.argsort(np.abs(beta_ridge)))"
   ]
  },
  {
   "cell_type": "code",
   "execution_count": 42,
   "id": "healthy-spine",
   "metadata": {},
   "outputs": [
    {
     "name": "stdout",
     "output_type": "stream",
     "text": [
      "standard deviation of test price :  9.941196581176241\n"
     ]
    }
   ],
   "source": [
    "print(\"standard deviation of test price : \", np.std(Y_test,axis=0))"
   ]
  },
  {
   "cell_type": "code",
   "execution_count": 44,
   "id": "swiss-circus",
   "metadata": {},
   "outputs": [
    {
     "data": {
      "image/png": "[encoded data removed]",
      "text/plain": [
       "<Figure size 432x288 with 1 Axes>"
      ]
     },
     "metadata": {
      "needs_background": "light"
     },
     "output_type": "display_data"
    }
   ],
   "source": [
    "plt.scatter(X_test[:,12], Y_test, label='true value')\n",
    "plt.scatter(X_test[:,12],Y_pred,label = 'predicted value')\n",
    "plt.ylabel('boston house price')\n",
    "plt.title('comparison btw true and prediction')\n",
    "plt.legend()\n",
    "plt.show()\n"
   ]
  },
  {
   "cell_type": "markdown",
   "id": "creative-finder",
   "metadata": {},
   "source": [
    "# Lambda dependence"
   ]
  },
  {
   "cell_type": "code",
   "execution_count": 47,
   "id": "optimum-concert",
   "metadata": {
    "collapsed": true
   },
   "outputs": [
    {
     "name": "stdout",
     "output_type": "stream",
     "text": [
      "Alpha :  0.0 Result MSE, RMSE  23.380836480268886 4.835373458200399\n",
      "Alpha :  1.0101010101010102 Result MSE, RMSE  23.38222552190734 4.8355170894028845\n",
      "Alpha :  2.0202020202020203 Result MSE, RMSE  23.388846655050415 4.836201676424425\n",
      "Alpha :  3.0303030303030303 Result MSE, RMSE  23.399889178598993 4.837343194213017\n",
      "Alpha :  4.040404040404041 Result MSE, RMSE  23.41469825569178 4.838873655685978\n",
      "Alpha :  5.050505050505051 Result MSE, RMSE  23.432740216129957 4.840737569434017\n",
      "Alpha :  6.0606060606060606 Result MSE, RMSE  23.45357647099045 4.842889268916898\n",
      "Alpha :  7.070707070707071 Result MSE, RMSE  23.476843702917805 4.845290879082267\n",
      "Alpha :  8.080808080808081 Result MSE, RMSE  23.502238679809444 4.847910754109387\n",
      "Alpha :  9.090909090909092 Result MSE, RMSE  23.529506509543506 4.850722266791154\n",
      "Alpha :  10.101010101010102 Result MSE, RMSE  23.55843148029051 4.853702862793571\n",
      "Alpha :  11.111111111111112 Result MSE, RMSE  23.588829861058784 4.856833316169991\n",
      "Alpha :  12.121212121212121 Result MSE, RMSE  23.620544200903943 4.860097139039913\n",
      "Alpha :  13.131313131313131 Result MSE, RMSE  23.6534387830239 4.863480110273291\n",
      "Alpha :  14.141414141414142 Result MSE, RMSE  23.687395975499335 4.866969896711848\n",
      "Alpha :  15.151515151515152 Result MSE, RMSE  23.72231328313337 4.8705557468458744\n",
      "Alpha :  16.161616161616163 Result MSE, RMSE  23.758100951187597 4.874228241597597\n",
      "Alpha :  17.171717171717173 Result MSE, RMSE  23.7946800063517 4.877979090397139\n",
      "Alpha :  18.181818181818183 Result MSE, RMSE  23.831980646224356 4.881800963397049\n",
      "Alpha :  19.191919191919194 Result MSE, RMSE  23.86994090820958 4.8856873526873965\n",
      "Alpha :  20.202020202020204 Result MSE, RMSE  23.90850556368246 4.889632456911507\n",
      "Alpha :  21.212121212121215 Result MSE, RMSE  23.94762519474386 4.8936310848636575\n",
      "Alpha :  22.222222222222225 Result MSE, RMSE  23.98725541973177 4.8976785745628275\n",
      "Alpha :  23.232323232323235 Result MSE, RMSE  24.027356240523517 4.901770725005762\n",
      "Alpha :  24.242424242424242 Result MSE, RMSE  24.067891490027804 4.905903738357266\n",
      "Alpha :  25.252525252525253 Result MSE, RMSE  24.108828362473645 4.910074170771114\n",
      "Alpha :  26.262626262626263 Result MSE, RMSE  24.15013701242733 4.914278890379272\n",
      "Alpha :  27.272727272727273 Result MSE, RMSE  24.191790211102315 4.918515041260148\n",
      "Alpha :  28.282828282828284 Result MSE, RMSE  24.233763050628852 4.922780012414616\n",
      "Alpha :  29.292929292929294 Result MSE, RMSE  24.276032688630785 4.92707141095304\n",
      "Alpha :  30.303030303030305 Result MSE, RMSE  24.318578126810554 4.9313870388371015\n",
      "Alpha :  31.313131313131315 Result MSE, RMSE  24.361380018335932 4.935724872633799\n",
      "Alpha :  32.323232323232325 Result MSE, RMSE  24.40442049970863 4.940083045831176\n",
      "Alpha :  33.333333333333336 Result MSE, RMSE  24.44768304351671 4.944459833340414\n",
      "Alpha :  34.343434343434346 Result MSE, RMSE  24.491152329063816 4.9488536378704735\n",
      "Alpha :  35.35353535353536 Result MSE, RMSE  24.534814128351943 4.953262977911828\n",
      "Alpha :  36.36363636363637 Result MSE, RMSE  24.578655205294197 4.957686477107462\n",
      "Alpha :  37.37373737373738 Result MSE, RMSE  24.62266322636401 4.962122854823731\n",
      "Alpha :  38.38383838383839 Result MSE, RMSE  24.666826681160835 4.966570917762157\n",
      "Alpha :  39.3939393939394 Result MSE, RMSE  24.71113481160042 4.9710295524770745\n",
      "Alpha :  40.40404040404041 Result MSE, RMSE  24.755577548627734 4.975497718683804\n",
      "Alpha :  41.41414141414142 Result MSE, RMSE  24.800145455510762 4.979974443258797\n",
      "Alpha :  42.42424242424243 Result MSE, RMSE  24.844829676906556 4.98445881484706\n",
      "Alpha :  43.43434343434344 Result MSE, RMSE  24.889621893004016 4.988949979004\n",
      "Alpha :  44.44444444444445 Result MSE, RMSE  24.934514278144192 4.993447133808887\n",
      "Alpha :  45.45454545454546 Result MSE, RMSE  24.979499463398614 4.997949525895456\n",
      "Alpha :  46.46464646464647 Result MSE, RMSE  25.024570502655656 5.0024564468524515\n",
      "Alpha :  47.47474747474748 Result MSE, RMSE  25.069720841823756 5.006967229953053\n",
      "Alpha :  48.484848484848484 Result MSE, RMSE  25.11494429080975 5.011481247177301\n",
      "Alpha :  49.494949494949495 Result MSE, RMSE  25.16023499797454 5.015997906496228\n",
      "Alpha :  50.505050505050505 Result MSE, RMSE  25.205587426804428 5.020516649390222\n",
      "Alpha :  51.515151515151516 Result MSE, RMSE  25.25099633456839 5.025036948577433\n",
      "Alpha :  52.525252525252526 Result MSE, RMSE  25.29645675275996 5.029558305931045\n",
      "Alpha :  53.535353535353536 Result MSE, RMSE  25.341963969144363 5.034080250566568\n",
      "Alpha :  54.54545454545455 Result MSE, RMSE  25.387513511254237 5.0386023370826\n",
      "Alpha :  55.55555555555556 Result MSE, RMSE  25.433101131193748 5.043124143940316\n",
      "Alpha :  56.56565656565657 Result MSE, RMSE  25.478722791627078 5.047645271968611\n",
      "Alpha :  57.57575757575758 Result MSE, RMSE  25.524374652841114 5.052165342983256\n",
      "Alpha :  58.58585858585859 Result MSE, RMSE  25.57005306078355 5.056683998509651\n",
      "Alpha :  59.5959595959596 Result MSE, RMSE  25.615754535988987 5.061200898599955\n",
      "Alpha :  60.60606060606061 Result MSE, RMSE  25.661475763313785 5.065715720736191\n",
      "Alpha :  61.61616161616162 Result MSE, RMSE  25.707213582409576 5.070228158811946\n",
      "Alpha :  62.62626262626263 Result MSE, RMSE  25.75296497887176 5.074737922185909\n",
      "Alpha :  63.63636363636364 Result MSE, RMSE  25.798727076005953 5.0792447348012235\n",
      "Alpha :  64.64646464646465 Result MSE, RMSE  25.84449712716116 5.083748334365221\n",
      "Alpha :  65.65656565656566 Result MSE, RMSE  25.89027250858299 5.088248471584597\n",
      "Alpha :  66.66666666666667 Result MSE, RMSE  25.93605071274507 5.092744909451588\n",
      "Alpha :  67.67676767676768 Result MSE, RMSE  25.98182934212071 5.097237422577127\n",
      "Alpha :  68.68686868686869 Result MSE, RMSE  26.027606103359943 5.10172579656727\n",
      "Alpha :  69.6969696969697 Result MSE, RMSE  26.073378801840995 5.106209827439624\n",
      "Alpha :  70.70707070707071 Result MSE, RMSE  26.119145336567662 5.110689321076723\n",
      "Alpha :  71.71717171717172 Result MSE, RMSE  26.164903695385892 5.115164092713536\n",
      "Alpha :  72.72727272727273 Result MSE, RMSE  26.210651950496974 5.119633966456681\n",
      "Alpha :  73.73737373737374 Result MSE, RMSE  26.25638825424484 5.124098774832979\n",
      "Alpha :  74.74747474747475 Result MSE, RMSE  26.302110835157794 5.128558358365224\n",
      "Alpha :  75.75757575757576 Result MSE, RMSE  26.347817994226876 5.133012565173289\n",
      "Alpha :  76.76767676767678 Result MSE, RMSE  26.393508101403658 5.137461250598749\n",
      "Alpha :  77.77777777777779 Result MSE, RMSE  26.439179592302747 5.1419042768514025\n",
      "Alpha :  78.7878787878788 Result MSE, RMSE  26.4848309650946 5.146341512676224\n",
      "Alpha :  79.7979797979798 Result MSE, RMSE  26.530460777575655 5.150772833039296\n",
      "Alpha :  80.80808080808082 Result MSE, RMSE  26.57606764440414 5.15519811883153\n",
      "Alpha :  81.81818181818183 Result MSE, RMSE  26.62165023449052 5.1596172565889535\n",
      "Alpha :  82.82828282828284 Result MSE, RMSE  26.667207268532124 5.164030138228487\n",
      "Alpha :  83.83838383838385 Result MSE, RMSE  26.712737516682935 5.168436660798209\n",
      "Alpha :  84.84848484848486 Result MSE, RMSE  26.758239796349898 5.172836726241211\n",
      "Alpha :  85.85858585858587 Result MSE, RMSE  26.80371297010723 5.17723024117213\n",
      "Alpha :  86.86868686868688 Result MSE, RMSE  26.84915594372196 5.1816171166656035\n",
      "Alpha :  87.87878787878789 Result MSE, RMSE  26.89456766428331 5.185997268055905\n",
      "Alpha :  88.8888888888889 Result MSE, RMSE  26.93994711842971 5.190370614747054\n",
      "Alpha :  89.89898989898991 Result MSE, RMSE  26.98529333066748 5.194737080032779\n",
      "Alpha :  90.90909090909092 Result MSE, RMSE  27.0306053617756 5.199096590925735\n",
      "Alpha :  91.91919191919193 Result MSE, RMSE  27.075882307291533 5.203449077995434\n",
      "Alpha :  92.92929292929294 Result MSE, RMSE  27.121123296072987 5.207794475214339\n",
      "Alpha :  93.93939393939395 Result MSE, RMSE  27.16632748893168 5.212132719811698\n",
      "Alpha :  94.94949494949496 Result MSE, RMSE  27.211494077334617 5.216463752134641\n",
      "Alpha :  95.95959595959597 Result MSE, RMSE  27.256622282168575 5.220787515516081\n",
      "Alpha :  96.96969696969697 Result MSE, RMSE  27.30171135256524 5.225103956149125\n",
      "Alpha :  97.97979797979798 Result MSE, RMSE  27.346760564782407 5.229413022967531\n",
      "Alpha :  98.98989898989899 Result MSE, RMSE  27.391769221139004 5.2337146675319435\n",
      "Alpha :  100.0 Result MSE, RMSE  27.436736649000327 5.238008843921546\n"
     ]
    }
   ],
   "source": [
    "lambda_list = np.linspace(0,100,100)\n",
    "\n",
    "\n",
    "rmse_l = []\n",
    "for a in alpha_list:\n",
    "    beta_ridge, beta_0 = Ridge.solve(X_norm, Y_train,a)\n",
    "    \n",
    "    #test data\n",
    "    \n",
    "    test_norm = (X_test-X_mean)/X_std\n",
    "    Y_pred = np.matmul(test_norm, beta_ridge)+beta_0\n",
    "\n",
    "    mse = mean_squared_error(Y_test, Y_pred)\n",
    "\n",
    "    #print(\"Lambda : \",a,\"Result MSE, RMSE \",mse, np.sqrt(mse))\n",
    "    rmse_l.append(np.sqrt(mse))\n",
    "    "
   ]
  },
  {
   "cell_type": "code",
   "execution_count": 48,
   "id": "amazing-class",
   "metadata": {},
   "outputs": [
    {
     "data": {
      "text/plain": [
       "Text(0.5, 1.0, '$\\\\lambda$ dependency')"
      ]
     },
     "execution_count": 48,
     "metadata": {},
     "output_type": "execute_result"
    },
    {
     "data": {
      "image/png": "[encoded data removed]",
      "text/plain": [
       "<Figure size 432x288 with 1 Axes>"
      ]
     },
     "metadata": {
      "needs_background": "light"
     },
     "output_type": "display_data"
    }
   ],
   "source": [
    "plt.plot(lambda_list.tolist(),rmse_l)\n",
    "plt.xlabel('$\\lambda$')\n",
    "plt.ylabel('RMSE')\n",
    "plt.title('$\\lambda$ dependency')"
   ]
  },
  {
   "cell_type": "markdown",
   "id": "modern-recall",
   "metadata": {},
   "source": [
    "# New code"
   ]
  },
  {
   "cell_type": "code",
   "execution_count": 82,
   "id": "skilled-negative",
   "metadata": {},
   "outputs": [],
   "source": [
    "# data shuffle\n",
    "train, test = train_test_split(data, test_size=0.2, random_state=1)\n",
    "\n",
    "np.random.shuffle(train)\n",
    "X_test = test[:,:13]\n",
    "Y_test = test[:,13]\n",
    "X_train = train[:,:13]\n",
    "Y_train = train[:,13]\n",
    "\n",
    "\n",
    "### 함수로 만들 부분\n",
    "\n",
    "# variables\n",
    "num_rounds = 200\n",
    "N = 200\n",
    "random_seed = 1\n",
    "lamb = 0.1\n",
    "\n",
    "rng = np.random.RandomState(random_seed)\n",
    "all_pred = np.zeros((num_rounds, Y_test.shape[0]))\n",
    "\n",
    "for i in range(num_rounds):\n",
    "    train_x, train_y = train_set(X_train, Y_train, N, rng)\n",
    "    X_norm = stats.zscore(train_x,axis=0)\n",
    "    X_std = np.std(train_x,axis=0)\n",
    "    X_mean = np.mean(train_x,axis=0)\n",
    "            \n",
    "    beta_ridge, beta_0 = Ridge.solve(X_norm, train_y, lamb)\n",
    "        \n",
    "    test_norm = (X_test-X_mean)/X_std\n",
    "    Y_pred = np.matmul(test_norm, beta_ridge)+beta_0\n",
    "            \n",
    "    all_pred[i] = Y_pred\n",
    "    \n",
    "avg_expected_loss = np.apply_along_axis(lambda x:((x - Y_test)**2).mean(),axis=1,arr=all_pred).mean()\n",
    "\n",
    "predictions = np.mean(all_pred, axis=0)\n",
    "\n",
    "\n",
    "avg_bias = np.sum((predictions - Y_test)**2)/Y_test.size\n",
    "avg_var = np.sum((predictions - all_pred)**2)/all_pred.size\n",
    "\n"
   ]
  },
  {
   "cell_type": "code",
   "execution_count": 78,
   "id": "promising-panic",
   "metadata": {},
   "outputs": [],
   "source": [
    "def train_set(X,Y,N,rng):\n",
    "    sample_indices = np.arange(X.shape[0])\n",
    "    indices = rng.choice(sample_indices,\n",
    "                                   size=N,\n",
    "                                   replace=False)\n",
    "    return X[indices], Y[indices]\n"
   ]
  },
  {
   "cell_type": "code",
   "execution_count": 77,
   "id": "unlikely-variance",
   "metadata": {},
   "outputs": [],
   "source": [
    "def bias_variance_decomp(X_train, Y_train, X_test, Y_test, num_rounds, N, random_seed, lamb):\n",
    "    rng = np.random.RandomState(random_seed)\n",
    "    all_pred = np.zeros((num_rounds, Y_test.shape[0]))\n",
    "    beta = np.zeros((num_rounds, X_train.shape[1]))\n",
    "    \n",
    "    for i in range(num_rounds):\n",
    "        train_x, train_y = train_set(X_train, Y_train, N, rng)\n",
    "        X_norm = stats.zscore(train_x,axis=0)\n",
    "        X_std = np.std(train_x,axis=0)\n",
    "        X_mean = np.mean(train_x,axis=0)\n",
    "            \n",
    "        beta_ridge, beta_0 = Ridge.solve(X_norm, train_y, lamb)\n",
    "        beta[i] = beta_ridge\n",
    "        \n",
    "        test_norm = (X_test-X_mean)/X_std\n",
    "        Y_pred = np.matmul(test_norm, beta_ridge)+beta_0\n",
    "            \n",
    "        all_pred[i] = Y_pred\n",
    "    \n",
    "    avg_expected_loss = np.apply_along_axis(lambda x:((x - Y_test)**2).mean(),axis=1,arr=all_pred).mean()\n",
    "    predictions = np.mean(all_pred, axis=0)\n",
    "    avg_beta = np.mean(beta, axis = 0)\n",
    "\n",
    "    avg_bias = np.sum((predictions - Y_test)**2)/Y_test.size\n",
    "    avg_var = np.sum((predictions - all_pred)**2)/all_pred.size\n",
    "    \n",
    "    return avg_expected_loss, avg_bias, avg_var, avg_beta"
   ]
  },
  {
   "cell_type": "code",
   "execution_count": 79,
   "id": "speaking-maker",
   "metadata": {},
   "outputs": [],
   "source": [
    "def important_feature(beta_ridge):\n",
    "    \n",
    "    beta = np.abs(beta_ridge)\n",
    "    ind = np.argsort(beta)\n",
    "    ind_reverse = ind[::-1]\n",
    "    return ind_reverse"
   ]
  },
  {
   "cell_type": "code",
   "execution_count": 118,
   "id": "controlling-manual",
   "metadata": {},
   "outputs": [
    {
     "name": "stdout",
     "output_type": "stream",
     "text": [
      "4\n"
     ]
    }
   ],
   "source": [
    "# important_feature test code\n",
    "a = np.array([1,3,4,0,8,6])\n",
    "aa = important_feature(a)\n",
    "print(a[aa[2]])"
   ]
  },
  {
   "cell_type": "code",
   "execution_count": 80,
   "id": "representative-triple",
   "metadata": {},
   "outputs": [
    {
     "name": "stdout",
     "output_type": "stream",
     "text": [
      "[ 0.1         0.12589254  0.15848932  0.19952623  0.25118864  0.31622777\n",
      "  0.39810717  0.50118723  0.63095734  0.79432823  1.          1.25892541\n",
      "  1.58489319  1.99526231  2.51188643  3.16227766  3.98107171  5.01187234\n",
      "  6.30957344  7.94328235 10.         12.58925412 15.84893192 19.95262315\n",
      " 25.11886432 31.6227766  39.81071706 50.11872336 63.09573445 79.43282347]\n"
     ]
    }
   ],
   "source": [
    "lambda_list = []\n",
    "for k in np.arange(-1,2,0.1):\n",
    "    a = 10**k\n",
    "    lambda_list.append(a)\n",
    "    \n",
    "num_lamb = len(lambda_list)\n",
    "lambda_list = np.array(lambda_list)\n",
    "print(lambda_list)"
   ]
  },
  {
   "cell_type": "code",
   "execution_count": 99,
   "id": "documentary-accordance",
   "metadata": {},
   "outputs": [
    {
     "name": "stdout",
     "output_type": "stream",
     "text": [
      "lambda :  0.1 feature :  12\n",
      "lambda :  0.1 feature :  11\n",
      "lambda :  0.1 feature :  10\n",
      "lambda :  0.1 feature :  9\n",
      "lambda :  0.1 feature :  8\n",
      "lambda :  0.1 feature :  7\n",
      "lambda :  0.1 feature :  6\n",
      "lambda :  0.1 feature :  5\n",
      "lambda :  0.1 feature :  4\n",
      "lambda :  0.1 feature :  3\n",
      "lambda :  0.1 feature :  2\n",
      "lambda :  0.1 feature :  1\n",
      "lambda :  0.12589254117941673 feature :  12\n",
      "lambda :  0.12589254117941673 feature :  11\n",
      "lambda :  0.12589254117941673 feature :  10\n",
      "lambda :  0.12589254117941673 feature :  9\n",
      "lambda :  0.12589254117941673 feature :  8\n",
      "lambda :  0.12589254117941673 feature :  7\n",
      "lambda :  0.12589254117941673 feature :  6\n",
      "lambda :  0.12589254117941673 feature :  5\n",
      "lambda :  0.12589254117941673 feature :  4\n",
      "lambda :  0.12589254117941673 feature :  3\n",
      "lambda :  0.12589254117941673 feature :  2\n",
      "lambda :  0.12589254117941673 feature :  1\n",
      "lambda :  0.15848931924611134 feature :  12\n",
      "lambda :  0.15848931924611134 feature :  11\n",
      "lambda :  0.15848931924611134 feature :  10\n",
      "lambda :  0.15848931924611134 feature :  9\n",
      "lambda :  0.15848931924611134 feature :  8\n",
      "lambda :  0.15848931924611134 feature :  7\n",
      "lambda :  0.15848931924611134 feature :  6\n",
      "lambda :  0.15848931924611134 feature :  5\n",
      "lambda :  0.15848931924611134 feature :  4\n",
      "lambda :  0.15848931924611134 feature :  3\n",
      "lambda :  0.15848931924611134 feature :  2\n",
      "lambda :  0.15848931924611134 feature :  1\n",
      "lambda :  0.19952623149688792 feature :  12\n",
      "lambda :  0.19952623149688792 feature :  11\n",
      "lambda :  0.19952623149688792 feature :  10\n",
      "lambda :  0.19952623149688792 feature :  9\n",
      "lambda :  0.19952623149688792 feature :  8\n",
      "lambda :  0.19952623149688792 feature :  7\n",
      "lambda :  0.19952623149688792 feature :  6\n",
      "lambda :  0.19952623149688792 feature :  5\n",
      "lambda :  0.19952623149688792 feature :  4\n",
      "lambda :  0.19952623149688792 feature :  3\n",
      "lambda :  0.19952623149688792 feature :  2\n",
      "lambda :  0.19952623149688792 feature :  1\n",
      "lambda :  0.25118864315095796 feature :  12\n",
      "lambda :  0.25118864315095796 feature :  11\n",
      "lambda :  0.25118864315095796 feature :  10\n",
      "lambda :  0.25118864315095796 feature :  9\n",
      "lambda :  0.25118864315095796 feature :  8\n",
      "lambda :  0.25118864315095796 feature :  7\n",
      "lambda :  0.25118864315095796 feature :  6\n",
      "lambda :  0.25118864315095796 feature :  5\n",
      "lambda :  0.25118864315095796 feature :  4\n",
      "lambda :  0.25118864315095796 feature :  3\n",
      "lambda :  0.25118864315095796 feature :  2\n",
      "lambda :  0.25118864315095796 feature :  1\n",
      "lambda :  0.31622776601683783 feature :  12\n",
      "lambda :  0.31622776601683783 feature :  11\n",
      "lambda :  0.31622776601683783 feature :  10\n",
      "lambda :  0.31622776601683783 feature :  9\n",
      "lambda :  0.31622776601683783 feature :  8\n",
      "lambda :  0.31622776601683783 feature :  7\n",
      "lambda :  0.31622776601683783 feature :  6\n",
      "lambda :  0.31622776601683783 feature :  5\n",
      "lambda :  0.31622776601683783 feature :  4\n",
      "lambda :  0.31622776601683783 feature :  3\n",
      "lambda :  0.31622776601683783 feature :  2\n",
      "lambda :  0.31622776601683783 feature :  1\n",
      "lambda :  0.39810717055349715 feature :  12\n",
      "lambda :  0.39810717055349715 feature :  11\n",
      "lambda :  0.39810717055349715 feature :  10\n",
      "lambda :  0.39810717055349715 feature :  9\n",
      "lambda :  0.39810717055349715 feature :  8\n",
      "lambda :  0.39810717055349715 feature :  7\n",
      "lambda :  0.39810717055349715 feature :  6\n",
      "lambda :  0.39810717055349715 feature :  5\n",
      "lambda :  0.39810717055349715 feature :  4\n",
      "lambda :  0.39810717055349715 feature :  3\n",
      "lambda :  0.39810717055349715 feature :  2\n",
      "lambda :  0.39810717055349715 feature :  1\n",
      "lambda :  0.5011872336272721 feature :  12\n",
      "lambda :  0.5011872336272721 feature :  11\n",
      "lambda :  0.5011872336272721 feature :  10\n",
      "lambda :  0.5011872336272721 feature :  9\n",
      "lambda :  0.5011872336272721 feature :  8\n",
      "lambda :  0.5011872336272721 feature :  7\n",
      "lambda :  0.5011872336272721 feature :  6\n",
      "lambda :  0.5011872336272721 feature :  5\n",
      "lambda :  0.5011872336272721 feature :  4\n",
      "lambda :  0.5011872336272721 feature :  3\n",
      "lambda :  0.5011872336272721 feature :  2\n",
      "lambda :  0.5011872336272721 feature :  1\n",
      "lambda :  0.630957344480193 feature :  12\n",
      "lambda :  0.630957344480193 feature :  11\n",
      "lambda :  0.630957344480193 feature :  10\n",
      "lambda :  0.630957344480193 feature :  9\n",
      "lambda :  0.630957344480193 feature :  8\n",
      "lambda :  0.630957344480193 feature :  7\n",
      "lambda :  0.630957344480193 feature :  6\n",
      "lambda :  0.630957344480193 feature :  5\n",
      "lambda :  0.630957344480193 feature :  4\n",
      "lambda :  0.630957344480193 feature :  3\n",
      "lambda :  0.630957344480193 feature :  2\n",
      "lambda :  0.630957344480193 feature :  1\n",
      "lambda :  0.7943282347242812 feature :  12\n",
      "lambda :  0.7943282347242812 feature :  11\n",
      "lambda :  0.7943282347242812 feature :  10\n",
      "lambda :  0.7943282347242812 feature :  9\n",
      "lambda :  0.7943282347242812 feature :  8\n",
      "lambda :  0.7943282347242812 feature :  7\n",
      "lambda :  0.7943282347242812 feature :  6\n",
      "lambda :  0.7943282347242812 feature :  5\n",
      "lambda :  0.7943282347242812 feature :  4\n",
      "lambda :  0.7943282347242812 feature :  3\n",
      "lambda :  0.7943282347242812 feature :  2\n",
      "lambda :  0.7943282347242812 feature :  1\n",
      "lambda :  0.9999999999999994 feature :  12\n",
      "lambda :  0.9999999999999994 feature :  11\n",
      "lambda :  0.9999999999999994 feature :  10\n",
      "lambda :  0.9999999999999994 feature :  9\n",
      "lambda :  0.9999999999999994 feature :  8\n",
      "lambda :  0.9999999999999994 feature :  7\n",
      "lambda :  0.9999999999999994 feature :  6\n",
      "lambda :  0.9999999999999994 feature :  5\n",
      "lambda :  0.9999999999999994 feature :  4\n",
      "lambda :  0.9999999999999994 feature :  3\n",
      "lambda :  0.9999999999999994 feature :  2\n",
      "lambda :  0.9999999999999994 feature :  1\n",
      "lambda :  1.2589254117941662 feature :  12\n",
      "lambda :  1.2589254117941662 feature :  11\n",
      "lambda :  1.2589254117941662 feature :  10\n",
      "lambda :  1.2589254117941662 feature :  9\n",
      "lambda :  1.2589254117941662 feature :  8\n",
      "lambda :  1.2589254117941662 feature :  7\n",
      "lambda :  1.2589254117941662 feature :  6\n",
      "lambda :  1.2589254117941662 feature :  5\n",
      "lambda :  1.2589254117941662 feature :  4\n",
      "lambda :  1.2589254117941662 feature :  3\n",
      "lambda :  1.2589254117941662 feature :  2\n",
      "lambda :  1.2589254117941662 feature :  1\n",
      "lambda :  1.5848931924611125 feature :  12\n",
      "lambda :  1.5848931924611125 feature :  11\n",
      "lambda :  1.5848931924611125 feature :  10\n",
      "lambda :  1.5848931924611125 feature :  9\n",
      "lambda :  1.5848931924611125 feature :  8\n",
      "lambda :  1.5848931924611125 feature :  7\n",
      "lambda :  1.5848931924611125 feature :  6\n",
      "lambda :  1.5848931924611125 feature :  5\n",
      "lambda :  1.5848931924611125 feature :  4\n",
      "lambda :  1.5848931924611125 feature :  3\n",
      "lambda :  1.5848931924611125 feature :  2\n",
      "lambda :  1.5848931924611125 feature :  1\n",
      "lambda :  1.9952623149688788 feature :  12\n",
      "lambda :  1.9952623149688788 feature :  11\n",
      "lambda :  1.9952623149688788 feature :  10\n",
      "lambda :  1.9952623149688788 feature :  9\n",
      "lambda :  1.9952623149688788 feature :  8\n",
      "lambda :  1.9952623149688788 feature :  7\n",
      "lambda :  1.9952623149688788 feature :  6\n",
      "lambda :  1.9952623149688788 feature :  5\n",
      "lambda :  1.9952623149688788 feature :  4\n",
      "lambda :  1.9952623149688788 feature :  3\n",
      "lambda :  1.9952623149688788 feature :  2\n",
      "lambda :  1.9952623149688788 feature :  1\n",
      "lambda :  2.5118864315095784 feature :  12\n",
      "lambda :  2.5118864315095784 feature :  11\n",
      "lambda :  2.5118864315095784 feature :  10\n",
      "lambda :  2.5118864315095784 feature :  9\n",
      "lambda :  2.5118864315095784 feature :  8\n",
      "lambda :  2.5118864315095784 feature :  7\n",
      "lambda :  2.5118864315095784 feature :  6\n",
      "lambda :  2.5118864315095784 feature :  5\n",
      "lambda :  2.5118864315095784 feature :  4\n",
      "lambda :  2.5118864315095784 feature :  3\n",
      "lambda :  2.5118864315095784 feature :  2\n",
      "lambda :  2.5118864315095784 feature :  1\n",
      "lambda :  3.162277660168376 feature :  12\n",
      "lambda :  3.162277660168376 feature :  11\n",
      "lambda :  3.162277660168376 feature :  10\n",
      "lambda :  3.162277660168376 feature :  9\n",
      "lambda :  3.162277660168376 feature :  8\n",
      "lambda :  3.162277660168376 feature :  7\n",
      "lambda :  3.162277660168376 feature :  6\n",
      "lambda :  3.162277660168376 feature :  5\n",
      "lambda :  3.162277660168376 feature :  4\n",
      "lambda :  3.162277660168376 feature :  3\n",
      "lambda :  3.162277660168376 feature :  2\n",
      "lambda :  3.162277660168376 feature :  1\n",
      "lambda :  3.981071705534969 feature :  12\n",
      "lambda :  3.981071705534969 feature :  11\n",
      "lambda :  3.981071705534969 feature :  10\n",
      "lambda :  3.981071705534969 feature :  9\n",
      "lambda :  3.981071705534969 feature :  8\n",
      "lambda :  3.981071705534969 feature :  7\n",
      "lambda :  3.981071705534969 feature :  6\n",
      "lambda :  3.981071705534969 feature :  5\n"
     ]
    },
    {
     "name": "stdout",
     "output_type": "stream",
     "text": [
      "lambda :  3.981071705534969 feature :  4\n",
      "lambda :  3.981071705534969 feature :  3\n",
      "lambda :  3.981071705534969 feature :  2\n",
      "lambda :  3.981071705534969 feature :  1\n",
      "lambda :  5.01187233627272 feature :  12\n",
      "lambda :  5.01187233627272 feature :  11\n",
      "lambda :  5.01187233627272 feature :  10\n",
      "lambda :  5.01187233627272 feature :  9\n",
      "lambda :  5.01187233627272 feature :  8\n",
      "lambda :  5.01187233627272 feature :  7\n",
      "lambda :  5.01187233627272 feature :  6\n",
      "lambda :  5.01187233627272 feature :  5\n",
      "lambda :  5.01187233627272 feature :  4\n",
      "lambda :  5.01187233627272 feature :  3\n",
      "lambda :  5.01187233627272 feature :  2\n",
      "lambda :  5.01187233627272 feature :  1\n",
      "lambda :  6.309573444801926 feature :  12\n",
      "lambda :  6.309573444801926 feature :  11\n",
      "lambda :  6.309573444801926 feature :  10\n",
      "lambda :  6.309573444801926 feature :  9\n",
      "lambda :  6.309573444801926 feature :  8\n",
      "lambda :  6.309573444801926 feature :  7\n",
      "lambda :  6.309573444801926 feature :  6\n",
      "lambda :  6.309573444801926 feature :  5\n",
      "lambda :  6.309573444801926 feature :  4\n",
      "lambda :  6.309573444801926 feature :  3\n",
      "lambda :  6.309573444801926 feature :  2\n",
      "lambda :  6.309573444801926 feature :  1\n",
      "lambda :  7.943282347242805 feature :  12\n",
      "lambda :  7.943282347242805 feature :  11\n",
      "lambda :  7.943282347242805 feature :  10\n",
      "lambda :  7.943282347242805 feature :  9\n",
      "lambda :  7.943282347242805 feature :  8\n",
      "lambda :  7.943282347242805 feature :  7\n",
      "lambda :  7.943282347242805 feature :  6\n",
      "lambda :  7.943282347242805 feature :  5\n",
      "lambda :  7.943282347242805 feature :  4\n",
      "lambda :  7.943282347242805 feature :  3\n",
      "lambda :  7.943282347242805 feature :  2\n",
      "lambda :  7.943282347242805 feature :  1\n",
      "lambda :  9.99999999999999 feature :  12\n",
      "lambda :  9.99999999999999 feature :  11\n",
      "lambda :  9.99999999999999 feature :  10\n",
      "lambda :  9.99999999999999 feature :  9\n",
      "lambda :  9.99999999999999 feature :  8\n",
      "lambda :  9.99999999999999 feature :  7\n",
      "lambda :  9.99999999999999 feature :  6\n",
      "lambda :  9.99999999999999 feature :  5\n",
      "lambda :  9.99999999999999 feature :  4\n",
      "lambda :  9.99999999999999 feature :  3\n",
      "lambda :  9.99999999999999 feature :  2\n",
      "lambda :  9.99999999999999 feature :  1\n",
      "lambda :  12.589254117941662 feature :  12\n",
      "lambda :  12.589254117941662 feature :  11\n",
      "lambda :  12.589254117941662 feature :  10\n",
      "lambda :  12.589254117941662 feature :  9\n",
      "lambda :  12.589254117941662 feature :  8\n",
      "lambda :  12.589254117941662 feature :  7\n",
      "lambda :  12.589254117941662 feature :  6\n",
      "lambda :  12.589254117941662 feature :  5\n",
      "lambda :  12.589254117941662 feature :  4\n",
      "lambda :  12.589254117941662 feature :  3\n",
      "lambda :  12.589254117941662 feature :  2\n",
      "lambda :  12.589254117941662 feature :  1\n",
      "lambda :  15.84893192461111 feature :  12\n",
      "lambda :  15.84893192461111 feature :  11\n",
      "lambda :  15.84893192461111 feature :  10\n",
      "lambda :  15.84893192461111 feature :  9\n",
      "lambda :  15.84893192461111 feature :  8\n",
      "lambda :  15.84893192461111 feature :  7\n",
      "lambda :  15.84893192461111 feature :  6\n",
      "lambda :  15.84893192461111 feature :  5\n",
      "lambda :  15.84893192461111 feature :  4\n",
      "lambda :  15.84893192461111 feature :  3\n",
      "lambda :  15.84893192461111 feature :  2\n",
      "lambda :  15.84893192461111 feature :  1\n",
      "lambda :  19.95262314968877 feature :  12\n",
      "lambda :  19.95262314968877 feature :  11\n",
      "lambda :  19.95262314968877 feature :  10\n",
      "lambda :  19.95262314968877 feature :  9\n",
      "lambda :  19.95262314968877 feature :  8\n",
      "lambda :  19.95262314968877 feature :  7\n",
      "lambda :  19.95262314968877 feature :  6\n",
      "lambda :  19.95262314968877 feature :  5\n",
      "lambda :  19.95262314968877 feature :  4\n",
      "lambda :  19.95262314968877 feature :  3\n",
      "lambda :  19.95262314968877 feature :  2\n",
      "lambda :  19.95262314968877 feature :  1\n",
      "lambda :  25.11886431509577 feature :  12\n",
      "lambda :  25.11886431509577 feature :  11\n",
      "lambda :  25.11886431509577 feature :  10\n",
      "lambda :  25.11886431509577 feature :  9\n",
      "lambda :  25.11886431509577 feature :  8\n",
      "lambda :  25.11886431509577 feature :  7\n",
      "lambda :  25.11886431509577 feature :  6\n",
      "lambda :  25.11886431509577 feature :  5\n",
      "lambda :  25.11886431509577 feature :  4\n",
      "lambda :  25.11886431509577 feature :  3\n",
      "lambda :  25.11886431509577 feature :  2\n",
      "lambda :  25.11886431509577 feature :  1\n",
      "lambda :  31.62277660168376 feature :  12\n",
      "lambda :  31.62277660168376 feature :  11\n",
      "lambda :  31.62277660168376 feature :  10\n",
      "lambda :  31.62277660168376 feature :  9\n",
      "lambda :  31.62277660168376 feature :  8\n",
      "lambda :  31.62277660168376 feature :  7\n",
      "lambda :  31.62277660168376 feature :  6\n",
      "lambda :  31.62277660168376 feature :  5\n",
      "lambda :  31.62277660168376 feature :  4\n",
      "lambda :  31.62277660168376 feature :  3\n",
      "lambda :  31.62277660168376 feature :  2\n",
      "lambda :  31.62277660168376 feature :  1\n",
      "lambda :  39.81071705534969 feature :  12\n",
      "lambda :  39.81071705534969 feature :  11\n",
      "lambda :  39.81071705534969 feature :  10\n",
      "lambda :  39.81071705534969 feature :  9\n",
      "lambda :  39.81071705534969 feature :  8\n",
      "lambda :  39.81071705534969 feature :  7\n",
      "lambda :  39.81071705534969 feature :  6\n",
      "lambda :  39.81071705534969 feature :  5\n",
      "lambda :  39.81071705534969 feature :  4\n",
      "lambda :  39.81071705534969 feature :  3\n",
      "lambda :  39.81071705534969 feature :  2\n",
      "lambda :  39.81071705534969 feature :  1\n",
      "lambda :  50.118723362727145 feature :  12\n",
      "lambda :  50.118723362727145 feature :  11\n",
      "lambda :  50.118723362727145 feature :  10\n",
      "lambda :  50.118723362727145 feature :  9\n",
      "lambda :  50.118723362727145 feature :  8\n",
      "lambda :  50.118723362727145 feature :  7\n",
      "lambda :  50.118723362727145 feature :  6\n",
      "lambda :  50.118723362727145 feature :  5\n",
      "lambda :  50.118723362727145 feature :  4\n",
      "lambda :  50.118723362727145 feature :  3\n",
      "lambda :  50.118723362727145 feature :  2\n",
      "lambda :  50.118723362727145 feature :  1\n",
      "lambda :  63.095734448019236 feature :  12\n",
      "lambda :  63.095734448019236 feature :  11\n",
      "lambda :  63.095734448019236 feature :  10\n",
      "lambda :  63.095734448019236 feature :  9\n",
      "lambda :  63.095734448019236 feature :  8\n",
      "lambda :  63.095734448019236 feature :  7\n",
      "lambda :  63.095734448019236 feature :  6\n",
      "lambda :  63.095734448019236 feature :  5\n",
      "lambda :  63.095734448019236 feature :  4\n",
      "lambda :  63.095734448019236 feature :  3\n",
      "lambda :  63.095734448019236 feature :  2\n",
      "lambda :  63.095734448019236 feature :  1\n",
      "lambda :  79.43282347242805 feature :  12\n",
      "lambda :  79.43282347242805 feature :  11\n",
      "lambda :  79.43282347242805 feature :  10\n",
      "lambda :  79.43282347242805 feature :  9\n",
      "lambda :  79.43282347242805 feature :  8\n",
      "lambda :  79.43282347242805 feature :  7\n",
      "lambda :  79.43282347242805 feature :  6\n",
      "lambda :  79.43282347242805 feature :  5\n",
      "lambda :  79.43282347242805 feature :  4\n",
      "lambda :  79.43282347242805 feature :  3\n",
      "lambda :  79.43282347242805 feature :  2\n",
      "lambda :  79.43282347242805 feature :  1\n"
     ]
    }
   ],
   "source": [
    "feature = data[:,:13]\n",
    "price = data[:,13]\n",
    "\n",
    "X_train, X_test, Y_train, Y_test = train_test_split(feature, price, test_size=0.2, random_state=1)\n",
    "\n",
    "num_feature = 13\n",
    "result = np.zeros((num_feature, num_lamb, 3)) # 3 ; avg_expected_loss, avg_bias, avg_var\n",
    "beta_record = np.zeros((1,num_feature)) # 람다에 따라 beta가 어떻게 바뀌는지 관찰해보자\n",
    "\n",
    "for i in range(num_lamb):\n",
    "    lamb = lambda_list[i]\n",
    "    # all features 13\n",
    "    avg_expected_loss, avg_bias, avg_var, avg_beta = bias_variance_decomp(X_train, Y_train, X_test, Y_test, 200, 200, 1, lamb)\n",
    "    \n",
    "    result[12,i,0] = avg_expected_loss\n",
    "    result[12,i,1] = avg_bias\n",
    "    result[12,i,2] = avg_var\n",
    "    beta_record = np.vstack((beta_record, avg_beta.reshape((1,-1))))\n",
    "    \n",
    "    feature_order = important_feature(avg_beta) # 베타값의 인덱스를 크기 순서대로 받아옴\n",
    "    \n",
    "    for n in range(num_feature-1, 0 , -1): # feature 갯수 줄이기\n",
    "        print(\"lambda : \", lamb, \"feature : \", n)\n",
    "        for k in range(n):\n",
    "            index = feature_order[k]\n",
    "            if k == 0:\n",
    "                train_x = X_train[:,index].reshape((-1,1))\n",
    "                test_x = X_test[:,index].reshape((-1,1))\n",
    "            else:\n",
    "                train_x = np.hstack((train_x, X_train[:,index].reshape((-1,1))))\n",
    "                test_x = np.hstack((test_x, X_test[:,index].reshape((-1,1))))\n",
    "        \n",
    "        avg_expected_loss, avg_bias, avg_var, avg_beta = bias_variance_decomp(train_x, Y_train, test_x, Y_test, 200, 200, 1, lamb)\n",
    "        result[n-1,i,0] = avg_expected_loss\n",
    "        result[n-1,i,1] = avg_bias\n",
    "        result[n-1,i,2] = avg_var\n",
    "\n",
    "        \n",
    "beta_record = beta_record[1:]   "
   ]
  },
  {
   "cell_type": "code",
   "execution_count": 100,
   "id": "injured-momentum",
   "metadata": {},
   "outputs": [
    {
     "name": "stdout",
     "output_type": "stream",
     "text": [
      "(13, 30, 3)\n"
     ]
    }
   ],
   "source": [
    "print(result.shape)"
   ]
  },
  {
   "cell_type": "code",
   "execution_count": 106,
   "id": "assigned-bennett",
   "metadata": {},
   "outputs": [
    {
     "data": {
      "image/png": "[encoded data removed]",
      "text/plain": [
       "<Figure size 576x432 with 2 Axes>"
      ]
     },
     "metadata": {
      "needs_background": "light"
     },
     "output_type": "display_data"
    }
   ],
   "source": [
    "plt.rcParams['figure.figsize'] = (8, 6)\n",
    "plt.rcParams['font.size'] = 12\n",
    "\n",
    "fig, ax1 = plt.subplots()\n",
    "ax1.plot(np.log10(lambda_list), result[0,:,2], label='avg_variance', color='green')\n",
    "ax1.set_xlabel('log($\\lambda$)')\n",
    "ax1.set_ylabel('average variance')\n",
    "\n",
    "ax2 = ax1.twinx()\n",
    "ax2.plot(np.log10(lambda_list), result[0,:,1], label='avg_bias', color='blue')\n",
    "ax2.set_ylabel('average bias')\n",
    "ax2.plot(np.log10(lambda_list), result[0,:,0], label='avg_expected_loss', color='red')\n",
    "\n",
    "ax1.legend(loc='best')\n",
    "ax2.legend(loc='best')\n",
    "plt.title('result depending on $\\lambda$ (when N=13)')\n",
    "plt.show()"
   ]
  },
  {
   "cell_type": "code",
   "execution_count": 104,
   "id": "outside-wedding",
   "metadata": {},
   "outputs": [
    {
     "name": "stdout",
     "output_type": "stream",
     "text": [
      "2.5118864315095784\n"
     ]
    }
   ],
   "source": [
    "print(lambda_list[14])"
   ]
  },
  {
   "cell_type": "code",
   "execution_count": 108,
   "id": "treated-midnight",
   "metadata": {},
   "outputs": [
    {
     "data": {
      "image/png": "[encoded data removed]",
      "text/plain": [
       "<Figure size 576x432 with 2 Axes>"
      ]
     },
     "metadata": {
      "needs_background": "light"
     },
     "output_type": "display_data"
    }
   ],
   "source": [
    "plt.rcParams['figure.figsize'] = (8, 6)\n",
    "plt.rcParams['font.size'] = 12\n",
    "\n",
    "fig, ax1 = plt.subplots()\n",
    "ax1.plot(range(1,num_feature+1), result[:,14,2], label='avg_variance', color='green')\n",
    "ax1.set_xlabel('number of feature')\n",
    "ax1.set_ylabel('average variance')\n",
    "\n",
    "ax2 = ax1.twinx()\n",
    "ax2.plot(range(1,num_feature+1), result[:,14,1], label='avg_bias', color='blue')\n",
    "ax2.set_ylabel('average bias')\n",
    "ax2.plot(range(1,num_feature+1), result[:,14,0], label='avg_expected_loss', color='red')\n",
    "\n",
    "ax1.legend(loc='best')\n",
    "ax2.legend(loc='best')\n",
    "plt.title('result depending on number of features (when $\\lambda$=2.5118..)')\n",
    "plt.show()"
   ]
  },
  {
   "cell_type": "code",
   "execution_count": 110,
   "id": "advanced-september",
   "metadata": {},
   "outputs": [
    {
     "name": "stdout",
     "output_type": "stream",
     "text": [
      "(31, 13)\n",
      "(30, 13)\n"
     ]
    }
   ],
   "source": [
    "print(beta_record.shape)\n",
    "beta_record = beta_record[1:]\n",
    "print(beta_record.shape)"
   ]
  },
  {
   "cell_type": "code",
   "execution_count": 119,
   "id": "polished-refund",
   "metadata": {},
   "outputs": [
    {
     "data": {
      "image/png": "[encoded data removed]",
      "text/plain": [
       "<Figure size 576x432 with 1 Axes>"
      ]
     },
     "metadata": {
      "needs_background": "light"
     },
     "output_type": "display_data"
    }
   ],
   "source": [
    "plt.rcParams['figure.figsize'] = (8, 6)\n",
    "plt.rcParams['font.size'] = 12\n",
    "\n",
    "for i in range(13):\n",
    "    plt.plot(np.log10(lambda_list), beta_record[:,i], label=str(i+1))\n",
    "    \n",
    "\n",
    "plt.title('beta coefficient depending on $\\lambda$')\n",
    "plt.xlabel('$log(\\lambda$)')\n",
    "plt.legend(loc='best')\n",
    "plt.show()"
   ]
  },
  {
   "cell_type": "code",
   "execution_count": 116,
   "id": "disciplinary-bookmark",
   "metadata": {},
   "outputs": [
    {
     "data": {
      "image/png": "[encoded data removed]",
      "text/plain": [
       "<Figure size 576x432 with 1 Axes>"
      ]
     },
     "metadata": {
      "needs_background": "light"
     },
     "output_type": "display_data"
    }
   ],
   "source": [
    "plt.rcParams['figure.figsize'] = (8, 6)\n",
    "plt.rcParams['font.size'] = 12\n",
    "\n",
    "for i in range(13):\n",
    "    plt.plot(np.log10(lambda_list), result[i,:,1], label=str(i+1))\n",
    "    \n",
    "plt.title('average bias depending on $\\lambda$ when feature N')\n",
    "plt.ylabel('average bias')\n",
    "plt.xlabel('$log(\\lambda)$')\n",
    "plt.legend(loc='best', ncol=4)\n",
    "plt.show()"
   ]
  }
 ],
 "metadata": {
  "kernelspec": {
   "display_name": "Python 3",
   "language": "python",
   "name": "python3"
  },
  "language_info": {
   "codemirror_mode": {
    "name": "ipython",
    "version": 3
   },
   "file_extension": ".py",
   "mimetype": "text/x-python",
   "name": "python",
   "nbconvert_exporter": "python",
   "pygments_lexer": "ipython3",
   "version": "3.8.5"
  }
 },
 "nbformat": 4,
 "nbformat_minor": 5
}
