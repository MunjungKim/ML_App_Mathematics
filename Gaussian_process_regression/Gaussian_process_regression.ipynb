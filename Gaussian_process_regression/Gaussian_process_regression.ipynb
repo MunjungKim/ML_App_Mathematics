{
 "cells": [
  {
   "cell_type": "code",
   "execution_count": 1,
   "metadata": {},
   "outputs": [],
   "source": [
    "import pandas as pd\n",
    "import numpy as np\n",
    "import matplotlib.pyplot as plt\n",
    "from sklearn.gaussian_process import GaussianProcessRegressor\n",
    "from sklearn.gaussian_process.kernels import WhiteKernel, ConstantKernel\n",
    "import sklearn.gaussian_process as gp\n",
    "from sklearn.gaussian_process.kernels import RBF, ExpSineSquared, RationalQuadratic"
   ]
  },
  {
   "cell_type": "markdown",
   "metadata": {},
   "source": [
    "# data"
   ]
  },
  {
   "cell_type": "code",
   "execution_count": 2,
   "metadata": {},
   "outputs": [],
   "source": [
    "PATH_NAME_CO2 = 'archive.csv'\n",
    "train = pd.read_csv(PATH_NAME_CO2, encoding='CP949')"
   ]
  },
  {
   "cell_type": "code",
   "execution_count": 3,
   "metadata": {},
   "outputs": [
    {
     "data": {
      "text/html": [
       "<div>\n",
       "<style scoped>\n",
       "    .dataframe tbody tr th:only-of-type {\n",
       "        vertical-align: middle;\n",
       "    }\n",
       "\n",
       "    .dataframe tbody tr th {\n",
       "        vertical-align: top;\n",
       "    }\n",
       "\n",
       "    .dataframe thead th {\n",
       "        text-align: right;\n",
       "    }\n",
       "</style>\n",
       "<table border=\"1\" class=\"dataframe\">\n",
       "  <thead>\n",
       "    <tr style=\"text-align: right;\">\n",
       "      <th></th>\n",
       "      <th>Year</th>\n",
       "      <th>Month</th>\n",
       "      <th>Decimal Date</th>\n",
       "      <th>Carbon Dioxide (ppm)</th>\n",
       "      <th>Seasonally Adjusted CO2 (ppm)</th>\n",
       "      <th>Carbon Dioxide Fit (ppm)</th>\n",
       "      <th>Seasonally Adjusted CO2 Fit (ppm)</th>\n",
       "    </tr>\n",
       "  </thead>\n",
       "  <tbody>\n",
       "    <tr>\n",
       "      <th>0</th>\n",
       "      <td>1958</td>\n",
       "      <td>1</td>\n",
       "      <td>1958.0411</td>\n",
       "      <td>NaN</td>\n",
       "      <td>NaN</td>\n",
       "      <td>NaN</td>\n",
       "      <td>NaN</td>\n",
       "    </tr>\n",
       "    <tr>\n",
       "      <th>1</th>\n",
       "      <td>1958</td>\n",
       "      <td>2</td>\n",
       "      <td>1958.1260</td>\n",
       "      <td>NaN</td>\n",
       "      <td>NaN</td>\n",
       "      <td>NaN</td>\n",
       "      <td>NaN</td>\n",
       "    </tr>\n",
       "    <tr>\n",
       "      <th>2</th>\n",
       "      <td>1958</td>\n",
       "      <td>3</td>\n",
       "      <td>1958.2027</td>\n",
       "      <td>315.69</td>\n",
       "      <td>314.42</td>\n",
       "      <td>316.18</td>\n",
       "      <td>314.89</td>\n",
       "    </tr>\n",
       "    <tr>\n",
       "      <th>3</th>\n",
       "      <td>1958</td>\n",
       "      <td>4</td>\n",
       "      <td>1958.2877</td>\n",
       "      <td>317.45</td>\n",
       "      <td>315.15</td>\n",
       "      <td>317.30</td>\n",
       "      <td>314.98</td>\n",
       "    </tr>\n",
       "    <tr>\n",
       "      <th>4</th>\n",
       "      <td>1958</td>\n",
       "      <td>5</td>\n",
       "      <td>1958.3699</td>\n",
       "      <td>317.50</td>\n",
       "      <td>314.73</td>\n",
       "      <td>317.83</td>\n",
       "      <td>315.06</td>\n",
       "    </tr>\n",
       "    <tr>\n",
       "      <th>...</th>\n",
       "      <td>...</td>\n",
       "      <td>...</td>\n",
       "      <td>...</td>\n",
       "      <td>...</td>\n",
       "      <td>...</td>\n",
       "      <td>...</td>\n",
       "      <td>...</td>\n",
       "    </tr>\n",
       "    <tr>\n",
       "      <th>715</th>\n",
       "      <td>2017</td>\n",
       "      <td>8</td>\n",
       "      <td>2017.6219</td>\n",
       "      <td>NaN</td>\n",
       "      <td>NaN</td>\n",
       "      <td>NaN</td>\n",
       "      <td>NaN</td>\n",
       "    </tr>\n",
       "    <tr>\n",
       "      <th>716</th>\n",
       "      <td>2017</td>\n",
       "      <td>9</td>\n",
       "      <td>2017.7068</td>\n",
       "      <td>NaN</td>\n",
       "      <td>NaN</td>\n",
       "      <td>NaN</td>\n",
       "      <td>NaN</td>\n",
       "    </tr>\n",
       "    <tr>\n",
       "      <th>717</th>\n",
       "      <td>2017</td>\n",
       "      <td>10</td>\n",
       "      <td>2017.7890</td>\n",
       "      <td>NaN</td>\n",
       "      <td>NaN</td>\n",
       "      <td>NaN</td>\n",
       "      <td>NaN</td>\n",
       "    </tr>\n",
       "    <tr>\n",
       "      <th>718</th>\n",
       "      <td>2017</td>\n",
       "      <td>11</td>\n",
       "      <td>2017.8740</td>\n",
       "      <td>NaN</td>\n",
       "      <td>NaN</td>\n",
       "      <td>NaN</td>\n",
       "      <td>NaN</td>\n",
       "    </tr>\n",
       "    <tr>\n",
       "      <th>719</th>\n",
       "      <td>2017</td>\n",
       "      <td>12</td>\n",
       "      <td>2017.9562</td>\n",
       "      <td>NaN</td>\n",
       "      <td>NaN</td>\n",
       "      <td>NaN</td>\n",
       "      <td>NaN</td>\n",
       "    </tr>\n",
       "  </tbody>\n",
       "</table>\n",
       "<p>720 rows × 7 columns</p>\n",
       "</div>"
      ],
      "text/plain": [
       "     Year  Month  Decimal Date  Carbon Dioxide (ppm)  \\\n",
       "0    1958      1     1958.0411                   NaN   \n",
       "1    1958      2     1958.1260                   NaN   \n",
       "2    1958      3     1958.2027                315.69   \n",
       "3    1958      4     1958.2877                317.45   \n",
       "4    1958      5     1958.3699                317.50   \n",
       "..    ...    ...           ...                   ...   \n",
       "715  2017      8     2017.6219                   NaN   \n",
       "716  2017      9     2017.7068                   NaN   \n",
       "717  2017     10     2017.7890                   NaN   \n",
       "718  2017     11     2017.8740                   NaN   \n",
       "719  2017     12     2017.9562                   NaN   \n",
       "\n",
       "     Seasonally Adjusted CO2 (ppm)  Carbon Dioxide Fit (ppm)  \\\n",
       "0                              NaN                       NaN   \n",
       "1                              NaN                       NaN   \n",
       "2                           314.42                    316.18   \n",
       "3                           315.15                    317.30   \n",
       "4                           314.73                    317.83   \n",
       "..                             ...                       ...   \n",
       "715                            NaN                       NaN   \n",
       "716                            NaN                       NaN   \n",
       "717                            NaN                       NaN   \n",
       "718                            NaN                       NaN   \n",
       "719                            NaN                       NaN   \n",
       "\n",
       "     Seasonally Adjusted CO2 Fit (ppm)  \n",
       "0                                  NaN  \n",
       "1                                  NaN  \n",
       "2                               314.89  \n",
       "3                               314.98  \n",
       "4                               315.06  \n",
       "..                                 ...  \n",
       "715                                NaN  \n",
       "716                                NaN  \n",
       "717                                NaN  \n",
       "718                                NaN  \n",
       "719                                NaN  \n",
       "\n",
       "[720 rows x 7 columns]"
      ]
     },
     "execution_count": 3,
     "metadata": {},
     "output_type": "execute_result"
    }
   ],
   "source": [
    "train"
   ]
  },
  {
   "cell_type": "code",
   "execution_count": 4,
   "metadata": {},
   "outputs": [],
   "source": [
    "train =train.dropna()\n",
    "index = train.index\n",
    "index = list(index)\n",
    "train = train.to_numpy()"
   ]
  },
  {
   "cell_type": "code",
   "execution_count": 5,
   "metadata": {},
   "outputs": [
    {
     "name": "stdout",
     "output_type": "stream",
     "text": [
      "Total data shape is (702, 7)\n",
      "The number of sample is  7\n"
     ]
    }
   ],
   "source": [
    "print(\"Total data shape is\", train.shape)\n",
    "print(\"The number of sample is \",len(train[0]))\n",
    "co2 = train[:,3]"
   ]
  },
  {
   "cell_type": "code",
   "execution_count": 6,
   "metadata": {},
   "outputs": [
    {
     "data": {
      "text/plain": [
       "Text(0.5, 0, 'time series')"
      ]
     },
     "execution_count": 6,
     "metadata": {},
     "output_type": "execute_result"
    },
    {
     "data": {
      "image/png": "[encoded data removed]",
      "text/plain": [
       "<Figure size 432x288 with 1 Axes>"
      ]
     },
     "metadata": {
      "needs_background": "light"
     },
     "output_type": "display_data"
    }
   ],
   "source": [
    "plt.plot(co2)\n",
    "plt.ylabel('co2(ppm)')\n",
    "plt.xlabel('time series')"
   ]
  },
  {
   "cell_type": "markdown",
   "metadata": {},
   "source": [
    "# Train data and test data split"
   ]
  },
  {
   "cell_type": "code",
   "execution_count": 7,
   "metadata": {},
   "outputs": [],
   "source": [
    "Full_x = []\n",
    "for i in range(720):\n",
    "    if i in index:\n",
    "        Full_x.append(i)\n",
    "    else:\n",
    "        continue\n",
    "        "
   ]
  },
  {
   "cell_type": "code",
   "execution_count": 8,
   "metadata": {},
   "outputs": [],
   "source": [
    "Train_x = Full_x[:400]\n",
    "Train_x = np.array(Train_x)\n",
    "Train_x = np.atleast_2d(Train_x)\n",
    "Train_x =Train_x.reshape((-1,1))"
   ]
  },
  {
   "cell_type": "code",
   "execution_count": 9,
   "metadata": {},
   "outputs": [],
   "source": [
    "Train_y = co2[:400]"
   ]
  },
  {
   "cell_type": "code",
   "execution_count": 10,
   "metadata": {
    "collapsed": true,
    "jupyter": {
     "outputs_hidden": true
    }
   },
   "outputs": [
    {
     "data": {
      "text/plain": [
       "array([315.69, 317.45, 317.5 , 315.86, 314.93, 313.21, 313.33, 314.67,\n",
       "       315.58, 316.48, 316.65, 317.72, 318.29, 318.15, 316.54, 314.8 ,\n",
       "       313.84, 313.34, 314.81, 315.58, 316.43, 316.97, 317.58, 319.03,\n",
       "       320.03, 319.59, 318.18, 315.9 , 314.17, 313.83, 315.  , 316.19,\n",
       "       316.9 , 317.7 , 318.54, 319.48, 320.58, 319.77, 318.57, 316.79,\n",
       "       314.99, 315.31, 316.1 , 317.01, 317.94, 318.55, 319.68, 320.57,\n",
       "       321.01, 320.62, 319.61, 317.4 , 316.25, 315.42, 316.69, 317.7 ,\n",
       "       318.74, 319.07, 319.86, 321.39, 322.25, 321.48, 319.74, 317.77,\n",
       "       316.21, 315.99, 317.06, 318.35, 319.57, 322.26, 321.89, 320.44,\n",
       "       318.69, 316.71, 316.87, 317.68, 318.71, 319.44, 320.44, 320.89,\n",
       "       322.14, 322.16, 321.87, 321.21, 318.87, 317.82, 317.3 , 318.87,\n",
       "       319.42, 320.62, 321.59, 322.39, 323.7 , 324.08, 323.75, 322.39,\n",
       "       320.36, 318.64, 318.1 , 319.79, 321.03, 322.32, 322.5 , 323.04,\n",
       "       324.42, 325.  , 324.09, 322.55, 320.92, 319.25, 319.39, 320.72,\n",
       "       321.96, 322.57, 323.14, 323.89, 325.02, 325.57, 325.36, 324.14,\n",
       "       322.11, 320.33, 320.25, 321.32, 322.89, 324.  , 324.42, 325.63,\n",
       "       326.66, 327.38, 326.7 , 325.88, 323.66, 322.38, 321.78, 322.85,\n",
       "       324.12, 325.06, 325.98, 326.93, 328.14, 328.08, 327.67, 326.34,\n",
       "       324.69, 323.1 , 323.07, 324.01, 325.13, 326.17, 326.68, 327.17,\n",
       "       327.79, 328.92, 328.57, 327.36, 325.43, 323.36, 323.57, 324.8 ,\n",
       "       326.01, 326.77, 327.63, 327.75, 329.73, 330.07, 329.09, 328.04,\n",
       "       326.32, 324.84, 325.2 , 326.5 , 327.55, 328.55, 329.56, 330.3 ,\n",
       "       331.5 , 332.48, 332.07, 330.87, 329.31, 327.51, 327.18, 328.16,\n",
       "       328.64, 329.35, 330.71, 331.48, 332.65, 333.09, 332.25, 331.18,\n",
       "       329.39, 327.43, 327.37, 328.46, 329.57, 330.4 , 331.4 , 332.04,\n",
       "       333.31, 333.97, 333.6 , 331.9 , 330.06, 328.56, 328.34, 329.49,\n",
       "       330.76, 331.75, 332.56, 333.5 , 334.58, 334.88, 334.34, 333.05,\n",
       "       330.94, 329.3 , 328.94, 330.31, 331.68, 332.93, 333.42, 334.7 ,\n",
       "       336.07, 336.75, 336.27, 334.92, 332.75, 331.59, 331.16, 332.4 ,\n",
       "       333.85, 334.97, 335.38, 336.64, 337.76, 338.01, 337.89, 336.54,\n",
       "       334.68, 332.76, 332.55, 333.92, 334.95, 336.23, 336.76, 337.96,\n",
       "       338.89, 339.47, 339.29, 337.73, 336.08, 333.92, 333.86, 335.29,\n",
       "       336.73, 338.01, 338.36, 340.07, 340.77, 341.47, 341.17, 339.56,\n",
       "       337.6 , 335.88, 336.02, 337.1 , 338.21, 339.24, 340.48, 341.38,\n",
       "       342.51, 342.91, 342.25, 340.49, 338.43, 336.69, 336.86, 338.36,\n",
       "       339.61, 340.75, 341.61, 342.7 , 343.57, 344.14, 343.35, 342.06,\n",
       "       339.81, 337.98, 337.86, 339.26, 340.49, 341.38, 342.52, 343.1 ,\n",
       "       344.94, 345.76, 345.32, 343.98, 342.38, 339.87, 339.99, 341.15,\n",
       "       342.99, 343.7 , 344.5 , 345.28, 347.07, 347.43, 346.8 , 345.39,\n",
       "       343.28, 341.07, 341.35, 342.98, 344.22, 344.97, 345.99, 347.43,\n",
       "       348.35, 348.93, 348.25, 346.56, 344.68, 343.09, 342.8 , 344.24,\n",
       "       345.56, 346.3 , 346.95, 347.85, 349.55, 350.21, 349.55, 347.94,\n",
       "       345.9 , 344.85, 344.17, 345.66, 346.9 , 348.02, 348.47, 349.41,\n",
       "       350.99, 351.85, 351.26, 349.51, 348.1 , 346.45, 346.36, 347.81,\n",
       "       348.96, 350.43, 351.73, 352.22, 353.59, 354.22, 353.79, 352.38,\n",
       "       350.43, 348.73, 348.88, 350.07, 351.34, 352.76, 353.07, 353.68,\n",
       "       355.42, 355.67, 355.12, 353.9 , 351.67, 349.8 , 349.99, 351.29,\n",
       "       352.52, 353.66, 354.7 , 355.38, 356.2 , 357.16, 356.23, 354.81,\n",
       "       352.91, 350.96, 351.18, 352.83, 354.21, 354.72, 355.75, 357.16,\n",
       "       358.6 , 359.34, 358.24, 356.17, 354.02, 352.15, 352.21, 353.75])"
      ]
     },
     "execution_count": 10,
     "metadata": {},
     "output_type": "execute_result"
    }
   ],
   "source": [
    "Train_y"
   ]
  },
  {
   "cell_type": "code",
   "execution_count": 11,
   "metadata": {
    "collapsed": true,
    "jupyter": {
     "outputs_hidden": true
    }
   },
   "outputs": [
    {
     "data": {
      "text/plain": [
       "array([[  2],\n",
       "       [  3],\n",
       "       [  4],\n",
       "       [  6],\n",
       "       [  7],\n",
       "       [  8],\n",
       "       [ 10],\n",
       "       [ 11],\n",
       "       [ 12],\n",
       "       [ 13],\n",
       "       [ 14],\n",
       "       [ 15],\n",
       "       [ 16],\n",
       "       [ 17],\n",
       "       [ 18],\n",
       "       [ 19],\n",
       "       [ 20],\n",
       "       [ 21],\n",
       "       [ 22],\n",
       "       [ 23],\n",
       "       [ 24],\n",
       "       [ 25],\n",
       "       [ 26],\n",
       "       [ 27],\n",
       "       [ 28],\n",
       "       [ 29],\n",
       "       [ 30],\n",
       "       [ 31],\n",
       "       [ 32],\n",
       "       [ 33],\n",
       "       [ 34],\n",
       "       [ 35],\n",
       "       [ 36],\n",
       "       [ 37],\n",
       "       [ 38],\n",
       "       [ 39],\n",
       "       [ 40],\n",
       "       [ 41],\n",
       "       [ 42],\n",
       "       [ 43],\n",
       "       [ 44],\n",
       "       [ 45],\n",
       "       [ 46],\n",
       "       [ 47],\n",
       "       [ 48],\n",
       "       [ 49],\n",
       "       [ 50],\n",
       "       [ 51],\n",
       "       [ 52],\n",
       "       [ 53],\n",
       "       [ 54],\n",
       "       [ 55],\n",
       "       [ 56],\n",
       "       [ 57],\n",
       "       [ 58],\n",
       "       [ 59],\n",
       "       [ 60],\n",
       "       [ 61],\n",
       "       [ 62],\n",
       "       [ 63],\n",
       "       [ 64],\n",
       "       [ 65],\n",
       "       [ 66],\n",
       "       [ 67],\n",
       "       [ 68],\n",
       "       [ 69],\n",
       "       [ 70],\n",
       "       [ 71],\n",
       "       [ 72],\n",
       "       [ 76],\n",
       "       [ 77],\n",
       "       [ 78],\n",
       "       [ 79],\n",
       "       [ 80],\n",
       "       [ 81],\n",
       "       [ 82],\n",
       "       [ 83],\n",
       "       [ 84],\n",
       "       [ 85],\n",
       "       [ 86],\n",
       "       [ 87],\n",
       "       [ 88],\n",
       "       [ 89],\n",
       "       [ 90],\n",
       "       [ 91],\n",
       "       [ 92],\n",
       "       [ 93],\n",
       "       [ 94],\n",
       "       [ 95],\n",
       "       [ 96],\n",
       "       [ 97],\n",
       "       [ 98],\n",
       "       [ 99],\n",
       "       [100],\n",
       "       [101],\n",
       "       [102],\n",
       "       [103],\n",
       "       [104],\n",
       "       [105],\n",
       "       [106],\n",
       "       [107],\n",
       "       [108],\n",
       "       [109],\n",
       "       [110],\n",
       "       [111],\n",
       "       [112],\n",
       "       [113],\n",
       "       [114],\n",
       "       [115],\n",
       "       [116],\n",
       "       [117],\n",
       "       [118],\n",
       "       [119],\n",
       "       [120],\n",
       "       [121],\n",
       "       [122],\n",
       "       [123],\n",
       "       [124],\n",
       "       [125],\n",
       "       [126],\n",
       "       [127],\n",
       "       [128],\n",
       "       [129],\n",
       "       [130],\n",
       "       [131],\n",
       "       [132],\n",
       "       [133],\n",
       "       [134],\n",
       "       [135],\n",
       "       [136],\n",
       "       [137],\n",
       "       [138],\n",
       "       [139],\n",
       "       [140],\n",
       "       [141],\n",
       "       [142],\n",
       "       [143],\n",
       "       [144],\n",
       "       [145],\n",
       "       [146],\n",
       "       [147],\n",
       "       [148],\n",
       "       [149],\n",
       "       [150],\n",
       "       [151],\n",
       "       [152],\n",
       "       [153],\n",
       "       [154],\n",
       "       [155],\n",
       "       [156],\n",
       "       [157],\n",
       "       [158],\n",
       "       [159],\n",
       "       [160],\n",
       "       [161],\n",
       "       [162],\n",
       "       [163],\n",
       "       [164],\n",
       "       [165],\n",
       "       [166],\n",
       "       [167],\n",
       "       [168],\n",
       "       [169],\n",
       "       [170],\n",
       "       [171],\n",
       "       [172],\n",
       "       [173],\n",
       "       [174],\n",
       "       [175],\n",
       "       [176],\n",
       "       [177],\n",
       "       [178],\n",
       "       [179],\n",
       "       [180],\n",
       "       [181],\n",
       "       [182],\n",
       "       [183],\n",
       "       [184],\n",
       "       [185],\n",
       "       [186],\n",
       "       [187],\n",
       "       [188],\n",
       "       [189],\n",
       "       [190],\n",
       "       [191],\n",
       "       [192],\n",
       "       [193],\n",
       "       [194],\n",
       "       [195],\n",
       "       [196],\n",
       "       [197],\n",
       "       [198],\n",
       "       [199],\n",
       "       [200],\n",
       "       [201],\n",
       "       [202],\n",
       "       [203],\n",
       "       [204],\n",
       "       [205],\n",
       "       [206],\n",
       "       [207],\n",
       "       [208],\n",
       "       [209],\n",
       "       [210],\n",
       "       [211],\n",
       "       [212],\n",
       "       [213],\n",
       "       [214],\n",
       "       [215],\n",
       "       [216],\n",
       "       [217],\n",
       "       [218],\n",
       "       [219],\n",
       "       [220],\n",
       "       [221],\n",
       "       [222],\n",
       "       [223],\n",
       "       [224],\n",
       "       [225],\n",
       "       [226],\n",
       "       [227],\n",
       "       [228],\n",
       "       [229],\n",
       "       [230],\n",
       "       [231],\n",
       "       [232],\n",
       "       [233],\n",
       "       [234],\n",
       "       [235],\n",
       "       [236],\n",
       "       [237],\n",
       "       [238],\n",
       "       [239],\n",
       "       [240],\n",
       "       [241],\n",
       "       [242],\n",
       "       [243],\n",
       "       [244],\n",
       "       [245],\n",
       "       [246],\n",
       "       [247],\n",
       "       [248],\n",
       "       [249],\n",
       "       [250],\n",
       "       [251],\n",
       "       [252],\n",
       "       [253],\n",
       "       [254],\n",
       "       [255],\n",
       "       [256],\n",
       "       [257],\n",
       "       [258],\n",
       "       [259],\n",
       "       [260],\n",
       "       [261],\n",
       "       [262],\n",
       "       [263],\n",
       "       [264],\n",
       "       [265],\n",
       "       [266],\n",
       "       [267],\n",
       "       [268],\n",
       "       [269],\n",
       "       [270],\n",
       "       [271],\n",
       "       [272],\n",
       "       [273],\n",
       "       [274],\n",
       "       [275],\n",
       "       [276],\n",
       "       [277],\n",
       "       [278],\n",
       "       [279],\n",
       "       [280],\n",
       "       [281],\n",
       "       [282],\n",
       "       [283],\n",
       "       [284],\n",
       "       [285],\n",
       "       [286],\n",
       "       [287],\n",
       "       [288],\n",
       "       [289],\n",
       "       [290],\n",
       "       [291],\n",
       "       [292],\n",
       "       [293],\n",
       "       [294],\n",
       "       [295],\n",
       "       [296],\n",
       "       [297],\n",
       "       [298],\n",
       "       [299],\n",
       "       [300],\n",
       "       [301],\n",
       "       [302],\n",
       "       [303],\n",
       "       [304],\n",
       "       [305],\n",
       "       [306],\n",
       "       [307],\n",
       "       [308],\n",
       "       [309],\n",
       "       [310],\n",
       "       [311],\n",
       "       [312],\n",
       "       [313],\n",
       "       [314],\n",
       "       [315],\n",
       "       [316],\n",
       "       [317],\n",
       "       [318],\n",
       "       [319],\n",
       "       [320],\n",
       "       [321],\n",
       "       [322],\n",
       "       [323],\n",
       "       [324],\n",
       "       [325],\n",
       "       [326],\n",
       "       [327],\n",
       "       [328],\n",
       "       [329],\n",
       "       [330],\n",
       "       [331],\n",
       "       [332],\n",
       "       [333],\n",
       "       [334],\n",
       "       [335],\n",
       "       [336],\n",
       "       [337],\n",
       "       [338],\n",
       "       [339],\n",
       "       [340],\n",
       "       [341],\n",
       "       [342],\n",
       "       [343],\n",
       "       [344],\n",
       "       [345],\n",
       "       [346],\n",
       "       [347],\n",
       "       [348],\n",
       "       [349],\n",
       "       [350],\n",
       "       [351],\n",
       "       [352],\n",
       "       [353],\n",
       "       [354],\n",
       "       [355],\n",
       "       [356],\n",
       "       [357],\n",
       "       [358],\n",
       "       [359],\n",
       "       [360],\n",
       "       [361],\n",
       "       [362],\n",
       "       [363],\n",
       "       [364],\n",
       "       [365],\n",
       "       [366],\n",
       "       [367],\n",
       "       [368],\n",
       "       [369],\n",
       "       [370],\n",
       "       [371],\n",
       "       [372],\n",
       "       [373],\n",
       "       [374],\n",
       "       [375],\n",
       "       [376],\n",
       "       [377],\n",
       "       [378],\n",
       "       [379],\n",
       "       [380],\n",
       "       [381],\n",
       "       [382],\n",
       "       [383],\n",
       "       [384],\n",
       "       [385],\n",
       "       [386],\n",
       "       [387],\n",
       "       [388],\n",
       "       [389],\n",
       "       [390],\n",
       "       [391],\n",
       "       [392],\n",
       "       [393],\n",
       "       [394],\n",
       "       [395],\n",
       "       [396],\n",
       "       [397],\n",
       "       [398],\n",
       "       [399],\n",
       "       [400],\n",
       "       [401],\n",
       "       [402],\n",
       "       [403],\n",
       "       [404],\n",
       "       [405],\n",
       "       [406]])"
      ]
     },
     "execution_count": 11,
     "metadata": {},
     "output_type": "execute_result"
    }
   ],
   "source": [
    "Train_x"
   ]
  },
  {
   "cell_type": "markdown",
   "metadata": {},
   "source": [
    "# Guassian Process Regressing"
   ]
  },
  {
   "cell_type": "markdown",
   "metadata": {},
   "source": [
    "# parameter optimizing 1"
   ]
  },
  {
   "cell_type": "code",
   "execution_count": 12,
   "metadata": {},
   "outputs": [
    {
     "name": "stderr",
     "output_type": "stream",
     "text": [
      "/Users/munjungkim/opt/anaconda3/lib/python3.8/site-packages/sklearn/gaussian_process/_gpr.py:504: ConvergenceWarning: lbfgs failed to converge (status=2):\n",
      "ABNORMAL_TERMINATION_IN_LNSRCH.\n",
      "\n",
      "Increase the number of iterations (max_iter) or scale the data as shown in:\n",
      "    https://scikit-learn.org/stable/modules/preprocessing.html\n",
      "  _check_optimize_result(\"lbfgs\", opt_res)\n"
     ]
    },
    {
     "data": {
      "image/png": "[encoded data removed]",
      "text/plain": [
       "<Figure size 432x288 with 1 Axes>"
      ]
     },
     "metadata": {
      "needs_background": "light"
     },
     "output_type": "display_data"
    }
   ],
   "source": [
    "# you should use periodic kernel\n",
    "#period p determines the distance between repititions of the function\n",
    "# l \n",
    "\n",
    "import sklearn.gaussian_process as gp\n",
    "from sklearn.gaussian_process.kernels import RBF, ExpSineSquared, RationalQuadratic , Exponentiation,DotProduct\n",
    "\n",
    "\n",
    "k1 =  gp.kernels.ConstantKernel(1.0, (1e-1, 1e3)) * RBF(length_scale=1.0,length_scale_bounds=(1e-5,1e-1))\n",
    "k2 =  gp.kernels.ConstantKernel(1.0, (1e-1, 1e3))*  RBF(length_scale=2000.0,length_scale_bounds=(1e3,1e4))*ExpSineSquared(length_scale=12.0, periodicity=12.0,periodicity_bounds=\"fixed\")\n",
    "\n",
    "\n",
    "k3 = gp.kernels.ConstantKernel(1.0, (1e-3, 1e1)) * RationalQuadratic(length_scale=1.0,length_scale_bounds=(1e-4,1e-1), alpha=0.78)\n",
    "\n",
    "\n",
    "model = GaussianProcessRegressor(kernel=k1+k2+k3,n_restarts_optimizer=10, alpha=0.1)\n",
    "model.fit(Train_x, Train_y)\n",
    "\n",
    "\n",
    "X_ = Full_x[400:]\n",
    "X_ = np.array(X_)\n",
    "X_ = np.atleast_2d(X_)\n",
    "X_ = X_.reshape((-1,1))\n",
    "y_pred, y_std = model.predict(X_, return_std=True)\n",
    "\n",
    "plt.plot(Full_x[400:],co2[400:],c='r')\n",
    "plt.plot(Train_x, Train_y, c='k')\n",
    "plt.plot(X_, y_pred)\n",
    "plt.fill_between(X_[:, 0], y_pred - y_std, y_pred + y_std,\n",
    "                 alpha=0.5, color='k')\n",
    "plt.xlim(X_.min(), X_.max())\n",
    "plt.xlabel(\"Year\")\n",
    "plt.ylabel(r\"CO$_2$(ppm)\")\n",
    "plt.title(\"Estimation\")\n",
    "plt.tight_layout()\n",
    "plt.show()"
   ]
  },
  {
   "cell_type": "code",
   "execution_count": 13,
   "metadata": {},
   "outputs": [
    {
     "data": {
      "image/png": "[encoded data removed]",
      "text/plain": [
       "<Figure size 432x288 with 1 Axes>"
      ]
     },
     "metadata": {
      "needs_background": "light"
     },
     "output_type": "display_data"
    }
   ],
   "source": [
    "plt.plot(Train_x, Train_y, c='k')\n",
    "plt.plot(Full_x[400:],co2[400:],c='r')\n",
    "plt.plot(X_, y_pred)\n",
    "plt.fill_between(X_[:, 0], y_pred - y_std, y_pred + y_std,\n",
    "                 alpha=0.5, color='k')\n",
    "plt.tight_layout()"
   ]
  },
  {
   "cell_type": "code",
   "execution_count": 14,
   "metadata": {},
   "outputs": [
    {
     "name": "stdout",
     "output_type": "stream",
     "text": [
      "\n",
      "Learned kernel: 0.316**2 * RBF(length_scale=0.0615) + 31.6**2 * RBF(length_scale=1e+03) * ExpSineSquared(length_scale=7.01, periodicity=12) + 3.16**2 * RationalQuadratic(alpha=0.000333, length_scale=0.1)\n",
      "Log-marginal-likelihood: -380.630\n"
     ]
    }
   ],
   "source": [
    "print(\"\\nLearned kernel: %s\" % model.kernel_)\n",
    "print(\"Log-marginal-likelihood: %.3f\"\n",
    "      % model.log_marginal_likelihood(model.kernel_.theta))"
   ]
  },
  {
   "cell_type": "markdown",
   "metadata": {},
   "source": [
    "# parameter optimizing 2"
   ]
  },
  {
   "cell_type": "code",
   "execution_count": null,
   "metadata": {},
   "outputs": [],
   "source": [
    "# you should use periodic kernel\n",
    "#period p determines the distance between repititions of the function\n",
    "# l \n",
    "\n",
    "import sklearn.gaussian_process as gp\n",
    "from sklearn.gaussian_process.kernels import RBF, ExpSineSquared, RationalQuadratic , Exponentiation,DotProduct\n",
    "\n",
    "\n",
    "\n",
    "k1 =  gp.kernels.ConstantKernel(1.0, (1e-1, 1e3)) * RBF(length_scale=1.0,length_scale_bounds=(1e3,1e4))\n",
    "k2 =  gp.kernels.ConstantKernel(1.0, (1e-1, 1e3))*  RBF(length_scale=2000.0,length_scale_bounds=(1e3,1e4))*ExpSineSquared(length_scale=12.0, periodicity=12.0,periodicity_bounds=\"fixed\")\n",
    "\n",
    "k3 = gp.kernels.ConstantKernel(1.0, (1e-3, 1e1)) * RationalQuadratic(length_scale=1.0,length_scale_bounds=(1e2,1e3), alpha=0.78)\n",
    "\n",
    "k4 = gp.kernels.ConstantKernel(1.0,(1e-3, 1)) * RBF(length_scale=1,length_scale_bounds=(1e-2,1e-1)) * WhiteKernel(noise_level=0.1**2,noise_level_bounds=(1e-5, 1e10)) \n",
    "\n",
    "model = GaussianProcessRegressor(kernel=k1+k2+k3+k4, n_restarts_optimizer=10,alpha=0.0)\n",
    "model.fit(Train_x, Train_y)\n",
    "\n",
    "\n",
    "X_ = Full_x[400:]\n",
    "X_ = np.array(X_)\n",
    "X_ = np.atleast_2d(X_)\n",
    "X_ = X_.reshape((-1,1))\n",
    "y_pred, y_std = model.predict(X_, return_std=True)\n",
    "\n",
    "plt.plot(Full_x[400:],co2[400:],c='r')\n",
    "plt.plot(Train_x, Train_y, c='k')\n",
    "plt.plot(X_, y_pred)\n",
    "plt.fill_between(X_[:, 0], y_pred - y_std, y_pred + y_std,\n",
    "                 alpha=0.5, color='k')\n",
    "plt.xlim(X_.min(), X_.max())\n",
    "plt.xlabel(\"Year\")\n",
    "plt.ylabel(r\"CO$_2$(ppm)\")\n",
    "plt.title(\"Estimation\")\n",
    "plt.tight_layout()\n",
    "plt.show()"
   ]
  },
  {
   "cell_type": "code",
   "execution_count": 16,
   "metadata": {},
   "outputs": [
    {
     "data": {
      "image/png": "[encoded data removed]",
      "text/plain": [
       "<Figure size 432x288 with 1 Axes>"
      ]
     },
     "metadata": {
      "needs_background": "light"
     },
     "output_type": "display_data"
    }
   ],
   "source": [
    "plt.plot(Train_x, Train_y, c='k')\n",
    "plt.plot(Full_x[400:],co2[400:],c='r')\n",
    "plt.plot(X_, y_pred)\n",
    "plt.fill_between(X_[:, 0], y_pred - y_std, y_pred + y_std,\n",
    "                 alpha=0.5, color='k')\n",
    "plt.tight_layout()"
   ]
  },
  {
   "cell_type": "code",
   "execution_count": 132,
   "metadata": {},
   "outputs": [
    {
     "name": "stdout",
     "output_type": "stream",
     "text": [
      "\n",
      "Learned kernel: 31.6**2 * RBF(length_scale=1e+03) + 31.6**2 * RBF(length_scale=8.95e+03) * ExpSineSquared(length_scale=2.99, periodicity=12) + 3.16**2 * RationalQuadratic(alpha=0.00801, length_scale=100) + 0.999**2 * RBF(length_scale=0.1) * WhiteKernel(noise_level=0.0616)\n"
     ]
    }
   ],
   "source": [
    "print(\"\\nLearned kernel: %s\" % model.kernel_)\n"
   ]
  },
  {
   "cell_type": "markdown",
   "metadata": {},
   "source": [
    "# following reference "
   ]
  },
  {
   "cell_type": "code",
   "execution_count": 121,
   "metadata": {},
   "outputs": [
    {
     "data": {
      "image/png": "[encoded data removed]",
      "text/plain": [
       "<Figure size 432x288 with 1 Axes>"
      ]
     },
     "metadata": {
      "needs_background": "light"
     },
     "output_type": "display_data"
    }
   ],
   "source": [
    "#reference : https://scikit-learn.org/stable/auto_examples/gaussian_process/plot_gpr_co2.html\n",
    "\n",
    "\n",
    "import sklearn.gaussian_process as gp\n",
    "from sklearn.gaussian_process.kernels import RBF, ExpSineSquared, RationalQuadratic , Exponentiation,DotProduct\n",
    "kernel = gp.kernels.ConstantKernel(1.0, (1e-1, 1e3)) * gp.kernels.ExpSineSquared(10.0, (1e-3, 1e3))\n",
    "\n",
    "\n",
    "k1 = 50.0**2 * RBF(length_scale=50.0)  # long term smooth rising trend\n",
    "k2 = 2.0**2 * RBF(length_scale=100.0) \\\n",
    "    * ExpSineSquared(length_scale=1.0, periodicity=12.0,\n",
    "                     periodicity_bounds=\"fixed\")  # seasonal component\n",
    "# medium term irregularities\n",
    "k3 = 0.5**2 * RationalQuadratic(length_scale=1.0,length_scale_bounds=(1e1,1e4), alpha=1.0)\n",
    "k4 = 0.1**2 * RBF(length_scale=0.1) \\\n",
    "    + WhiteKernel(noise_level=0.1**2,\n",
    "                  noise_level_bounds=(1e-5, np.inf))  # noise terms\n",
    "kernel = k1 + k2 + k3 + k4\n",
    "\n",
    "\n",
    "model = GaussianProcessRegressor(kernel=k1+k2+k3+k4,alpha=0.0)\n",
    "model.fit(Train_x, Train_y)\n",
    "\n",
    "\n",
    "\n",
    "\n",
    "\n",
    "X_ = Full_x[400:]\n",
    "X_ = np.array(X_)\n",
    "X_ = np.atleast_2d(X_)\n",
    "X_ = X_.reshape((-1,1))\n",
    "y_pred, y_std = model.predict(X_, return_std=True)\n",
    "\n",
    "plt.plot(Full_x[400:],co2[400:],c='r')\n",
    "plt.plot(Train_x, Train_y, c='k')\n",
    "plt.plot(X_, y_pred)\n",
    "plt.fill_between(X_[:, 0], y_pred - y_std, y_pred + y_std,\n",
    "                 alpha=0.5, color='k')\n",
    "plt.xlim(X_.min(), X_.max())\n",
    "plt.xlabel(\"Year\")\n",
    "plt.ylabel(r\"CO$_2$(ppm)\")\n",
    "plt.title(\"Estimation\")\n",
    "plt.tight_layout()\n",
    "plt.show()"
   ]
  },
  {
   "cell_type": "code",
   "execution_count": 116,
   "metadata": {},
   "outputs": [
    {
     "data": {
      "image/png": "[encoded data removed]",
      "text/plain": [
       "<Figure size 432x288 with 1 Axes>"
      ]
     },
     "metadata": {
      "needs_background": "light"
     },
     "output_type": "display_data"
    }
   ],
   "source": [
    "plt.plot(Train_x, Train_y, c='k')\n",
    "plt.plot(Full_x[400:],co2[400:],c='r')\n",
    "plt.plot(X_, y_pred)\n",
    "plt.fill_between(X_[:, 0], y_pred - y_std, y_pred + y_std,\n",
    "                 alpha=0.5, color='k')\n",
    "plt.tight_layout()"
   ]
  },
  {
   "cell_type": "code",
   "execution_count": 117,
   "metadata": {},
   "outputs": [
    {
     "name": "stdout",
     "output_type": "stream",
     "text": [
      "\n",
      "Learned kernel: 316**2 * RBF(length_scale=1.27e+03) + 3.12**2 * RBF(length_scale=1.99e+03) * ExpSineSquared(length_scale=1.4, periodicity=12) + 49.9**2 * RationalQuadratic(alpha=1e-05, length_scale=315) + 0.127**2 * RBF(length_scale=0.1) + WhiteKernel(noise_level=0.0161)\n"
     ]
    }
   ],
   "source": [
    "print(\"\\nLearned kernel: %s\" % model.kernel_)"
   ]
  },
  {
   "cell_type": "code",
   "execution_count": null,
   "metadata": {},
   "outputs": [],
   "source": []
  }
 ],
 "metadata": {
  "kernelspec": {
   "display_name": "Python 3",
   "language": "python",
   "name": "python3"
  },
  "language_info": {
   "codemirror_mode": {
    "name": "ipython",
    "version": 3
   },
   "file_extension": ".py",
   "mimetype": "text/x-python",
   "name": "python",
   "nbconvert_exporter": "python",
   "pygments_lexer": "ipython3",
   "version": "3.8.5"
  }
 },
 "nbformat": 4,
 "nbformat_minor": 4
}
